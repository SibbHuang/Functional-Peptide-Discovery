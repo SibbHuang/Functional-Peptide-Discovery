{
 "cells": [
  {
   "cell_type": "markdown",
   "id": "cc75c123",
   "metadata": {},
   "source": [
    "### Load Package："
   ]
  },
  {
   "cell_type": "code",
   "execution_count": 2,
   "id": "b0fd7b71",
   "metadata": {},
   "outputs": [],
   "source": [
    "from selenium import webdriver\n",
    "from selenium.webdriver.common.action_chains import ActionChains\n",
    "from selenium.webdriver.common.keys import Keys\n",
    "import time\n",
    "import os\n",
    "from selenium.webdriver.common.by import By\n",
    "from selenium.webdriver.support.ui import Select\n",
    "import pandas as pd"
   ]
  },
  {
   "cell_type": "markdown",
   "id": "5894cf0f",
   "metadata": {},
   "source": [
    "### Check Version"
   ]
  },
  {
   "cell_type": "code",
   "execution_count": 6,
   "id": "b138b86b",
   "metadata": {},
   "outputs": [
    {
     "data": {
      "text/plain": [
       "'4.11.2'"
      ]
     },
     "execution_count": 6,
     "metadata": {},
     "output_type": "execute_result"
    }
   ],
   "source": [
    "import selenium\n",
    "selenium.__version__"
   ]
  },
  {
   "cell_type": "markdown",
   "id": "67c8950f",
   "metadata": {},
   "source": [
    "### Load Data"
   ]
  },
  {
   "cell_type": "code",
   "execution_count": 3,
   "id": "ac19bee8",
   "metadata": {},
   "outputs": [
    {
     "data": {
      "text/html": [
       "<div>\n",
       "<style scoped>\n",
       "    .dataframe tbody tr th:only-of-type {\n",
       "        vertical-align: middle;\n",
       "    }\n",
       "\n",
       "    .dataframe tbody tr th {\n",
       "        vertical-align: top;\n",
       "    }\n",
       "\n",
       "    .dataframe thead th {\n",
       "        text-align: right;\n",
       "    }\n",
       "</style>\n",
       "<table border=\"1\" class=\"dataframe\">\n",
       "  <thead>\n",
       "    <tr style=\"text-align: right;\">\n",
       "      <th></th>\n",
       "      <th>peptide</th>\n",
       "      <th>smile</th>\n",
       "    </tr>\n",
       "  </thead>\n",
       "  <tbody>\n",
       "    <tr>\n",
       "      <th>0</th>\n",
       "      <td>ACEF</td>\n",
       "      <td>C[C@H](N)C(=O)N[C@@H](CS)C(=O)N[C@@H](CCC(=O)O...</td>\n",
       "    </tr>\n",
       "    <tr>\n",
       "      <th>1</th>\n",
       "      <td>TCTPW</td>\n",
       "      <td>C[C@@H](O)[C@H](N)C(=O)N[C@@H](CS)C(=O)N[C@H](...</td>\n",
       "    </tr>\n",
       "    <tr>\n",
       "      <th>2</th>\n",
       "      <td>AGCF</td>\n",
       "      <td>C[C@H](N)C(=O)NCC(=O)N[C@@H](CS)C(=O)N[C@@H](C...</td>\n",
       "    </tr>\n",
       "    <tr>\n",
       "      <th>3</th>\n",
       "      <td>APDCR</td>\n",
       "      <td>C[C@H](N)C(=O)N1CCC[C@H]1C(=O)N[C@@H](CC(=O)O)...</td>\n",
       "    </tr>\n",
       "  </tbody>\n",
       "</table>\n",
       "</div>"
      ],
      "text/plain": [
       "  peptide                                              smile\n",
       "0    ACEF  C[C@H](N)C(=O)N[C@@H](CS)C(=O)N[C@@H](CCC(=O)O...\n",
       "1   TCTPW  C[C@@H](O)[C@H](N)C(=O)N[C@@H](CS)C(=O)N[C@H](...\n",
       "2    AGCF  C[C@H](N)C(=O)NCC(=O)N[C@@H](CS)C(=O)N[C@@H](C...\n",
       "3   APDCR  C[C@H](N)C(=O)N1CCC[C@H]1C(=O)N[C@@H](CC(=O)O)..."
      ]
     },
     "execution_count": 3,
     "metadata": {},
     "output_type": "execute_result"
    }
   ],
   "source": [
    "rfilename=\".\\example.csv\"\n",
    "df=pd.read_csv(rfilename)\n",
    "df.tail()"
   ]
  },
  {
   "cell_type": "code",
   "execution_count": 4,
   "id": "fca27599",
   "metadata": {},
   "outputs": [],
   "source": [
    "peptideseq=list(df[\"peptide\"])\n",
    "peptidesmi=list(df[\"smile\"])"
   ]
  },
  {
   "cell_type": "code",
   "execution_count": 5,
   "id": "f2978dad",
   "metadata": {},
   "outputs": [],
   "source": [
    "def inputsmiles(smiles=\"CC(N)C(=O)NC(C(=O)NC(Cc1ccccc1)C(=O)O)C(C)O\",text_area_xpath=\"/html/body/div/div/div[2]/div[2]/div/div[1]/div[1]/input\",button_xpath=\"/html/body/div/div/div[2]/div[2]/div/div[1]/div[1]/span[2]/button\",a_xpath=\"/html/body/div/div/div[2]/div[2]/div/div[1]/div[3]/a\"):\n",
    "    \"\"\"\n",
    "    Submit smiles into table and obtained the task link\n",
    "    if any error situation happen, result of link will be None\n",
    "    retrun link, a string object\n",
    "    \"\"\"\n",
    "    try:\n",
    "        driver.find_element(By.XPATH,text_area_xpath).send_keys(smiles) #send the smiles\n",
    "        button_click=driver.find_element(By.XPATH,button_xpath).click()\n",
    "        time.sleep(1)\n",
    "        link=driver.find_element(By.XPATH,a_xpath).get_attribute(\"href\") #collect the task link\n",
    "    except exception as e:\n",
    "        link=\"None\"\n",
    "    return link\n",
    "\n",
    "def loop(smileslist,seqlist,wfileNo=1,linksrecordfolder=\"D:\\\\LaverProtein\\\\ADMET\\\\tasklinks\\\\\"):\n",
    "    \"\"\"\n",
    "    a loop function to submit multiple smiles and collect task link\n",
    "    wfileNo is the name for convenient linking to store\n",
    "    linksrecordfolder is the path to stored the links\n",
    "    retrun none\n",
    "    \"\"\"\n",
    "    with open(linksrecordfolder+\"tasklinks\"+str(wfileNo)+\".csv\",\"w\",encoding=\"utf8\") as f:\n",
    "        f.write(\"Peptide,tasklink\\n\")\n",
    "        while len(smileslist) != 0:\n",
    "            link=inputsmiles(smiles=smileslist.pop())    \n",
    "            f.write(seqlist.pop()+\",\"+link+\"\\n\")\n",
    "            driver.refresh()\n",
    "        f.close()\n",
    "    return None\n",
    "\n",
    "def downloadcsv(driver,rfileNo=1,folder=\"C:\\\\Users\\\\ff\\\\Downloads\\\\\",linksrecordfolder=\"D:\\\\LaverProtein\\\\ADMET\\\\tasklinks\\\\\",resultwritefolder=\"D:\\\\LaverProtein\\\\ADMET\\\\\"):\n",
    "    \"\"\"\n",
    "    dowmload the csv file based on the built link\n",
    "    folder is the default download point of brower\n",
    "    linksrecordfolder is the point to stored the links which were generated in last step\n",
    "    resultwritefolder is the point to stored the admet result\n",
    "    return none\n",
    "    \"\"\"\n",
    "    download_button_xpath=\"/html/body/div/div/div[2]/div/div/div[2]/div/div[1]/div[2]/a[1]\"\n",
    "    tbodytag1=\"/html/body/div/div/div[2]/div/div/div[2]/div/div[3]/div[3]/table/tbody\"\n",
    "    tbodytag2=\"/html/body/div/div/div[2]/div/div/div[2]/div/div[4]/div[3]/table/tbody\"\n",
    "    \n",
    "    df=pd.read_csv(linksrecordfolder+\"tasklinks\"+str(rfileNo)+\".csv\") #read the link data\n",
    "    \n",
    "    links = [link.replace(\"\\n\",\"\") for link in list(df[\"tasklink\"])]  #convert to list\n",
    "    pepseq=list(df[\"Peptide\"])\n",
    "     \n",
    "    for link in range(len(links)):\n",
    "        state = True\n",
    "        while state:\n",
    "            try:\n",
    "                driver.get(links[link]) \n",
    "                time.sleep(1.5)\n",
    "                classificationpre=driver.find_element(By.XPATH,tbodytag1).text\n",
    "                regressionpre=driver.find_element(By.XPATH,tbodytag2).text\n",
    "                driver.refresh()\n",
    "                d=classificationpre.split(\"\\n\")+regressionpre.split('\\n')\n",
    "                string,count=\"\",0\n",
    "                with open(resultwritefolder+pepseq[link]+\".txt\",\"w+\",encoding=\"utf8\") as f:\n",
    "                    for i in range(1,len(d)+1):\n",
    "                        i=d[i-1]+','\n",
    "                        string+=i\n",
    "                        count+=1\n",
    "                        if count/3 == 1:\n",
    "                            f.write(string+\"\\n\")\n",
    "                            string,count=\"\",0\n",
    "                    f.close()\n",
    "                state = False\n",
    "            except:\n",
    "                print(links[link]+\" is error.\")\n",
    "                state = False\n",
    "    return None      \n",
    "            \n",
    "\n",
    "def preparefun():\n",
    "    \"\"\"\n",
    "    a test function\n",
    "    \"\"\"\n",
    "    link=\"http://lmmd.ecust.edu.cn/admetsar2/result/?tid=709657\"\n",
    "    tbodytag1=\"/html/body/div/div/div[2]/div/div/div[2]/div/div[3]/div[3]/table/tbody\"\n",
    "    tbodytag2=\"/html/body/div/div/div[2]/div/div/div[2]/div/div[4]/div[3]/table/tbody\"\n",
    "    driver.get(link) \n",
    "    time.sleep(2)\n",
    "    classificationpre=driver.find_element(By.XPATH,tbodytag1).text\n",
    "    regressionpre=driver.find_element(By.XPATH,tbodytag2).text\n",
    "    return classificationpre,regressionpre   \n",
    "\n"
   ]
  },
  {
   "cell_type": "markdown",
   "id": "e3c4a07a",
   "metadata": {},
   "source": [
    "### Input Data:"
   ]
  },
  {
   "cell_type": "code",
   "execution_count": 6,
   "id": "ed5248d1",
   "metadata": {},
   "outputs": [
    {
     "name": "stdout",
     "output_type": "stream",
     "text": [
      "Note! the task links text will be stored in path C:\\Users\\ff\\\n",
      "All task were submitted, you could take a break and come back to dowmload them later.\n",
      "Run the code below to download the result.\n"
     ]
    }
   ],
   "source": [
    "if __name__ == \"__main__\":\n",
    "    linkStoredplace=\"C:\\\\Users\\\\ff\\\\\"\n",
    "    print(\"Note! the task links text will be stored in path \"+linkStoredplace)\n",
    "    driver=webdriver.Firefox()\n",
    "    driver.implicitly_wait(10) #aviod unable to locate the elements\n",
    "    driver.set_window_size(580,840)\n",
    "    driver.get(\"http://lmmd.ecust.edu.cn/admetsar2/\")\n",
    "    loop(peptidesmi,peptideseq,wfileNo=1,linksrecordfolder=linkStoredplace) #submit the task\n",
    "    print(\"All task were submitted, you could take a break and come back to dowmload them later.\")\n",
    "    print(\"Run the code below to download the result.\")"
   ]
  },
  {
   "cell_type": "markdown",
   "id": "b0d7dbea",
   "metadata": {},
   "source": [
    "### Download Data:"
   ]
  },
  {
   "cell_type": "code",
   "execution_count": 9,
   "id": "482d897c",
   "metadata": {},
   "outputs": [
    {
     "name": "stdout",
     "output_type": "stream",
     "text": [
      "Note! the link text was stored in C:\\Users\\ff\\\n",
      "Note! the result will stored in C:\\Users\\ff\\\n",
      "Note! the default saving path of browser is C:\\Users\\ff\\Downloads\\\n",
      "http://lmmd.ecust.edu.cn/admetsar2/result/?tid=913797 is error.\n",
      "http://lmmd.ecust.edu.cn/admetsar2/result/?tid=913798 is error.\n",
      "http://lmmd.ecust.edu.cn/admetsar2/result/?tid=913799 is error.\n",
      "http://lmmd.ecust.edu.cn/admetsar2/result/?tid=913800 is error.\n"
     ]
    }
   ],
   "source": [
    "if __name__ == \"__main__\":\n",
    "    url=\"http://lmmd.ecust.edu.cn/admetsar2/\"\n",
    "    driver=webdriver.Firefox()\n",
    "    driver.implicitly_wait(10)\n",
    "    driver.set_window_size(580,840)\n",
    "    lsf=\"C:\\\\Users\\\\ff\\\\\"\n",
    "    rwf=\"C:\\\\Users\\\\ff\\\\\"\n",
    "    ddf=\"C:\\\\Users\\\\ff\\\\Downloads\\\\\"\n",
    "    print(\"Note! the link text was stored in \"+lsf)\n",
    "    print(\"Note! the result will stored in \"+rwf)\n",
    "    print(\"Note! the default saving path of browser is \"+ddf)\n",
    "    #开始下载任务：\n",
    "    downloadcsv(driver,rfileNo=1,folder=ddf,linksrecordfolder=lsf,resultwritefolder=rwf)\n",
    "    driver.close()  ##关闭当前的窗口"
   ]
  }
 ],
 "metadata": {
  "kernelspec": {
   "display_name": "Python 3",
   "language": "python",
   "name": "python3"
  },
  "language_info": {
   "codemirror_mode": {
    "name": "ipython",
    "version": 3
   },
   "file_extension": ".py",
   "mimetype": "text/x-python",
   "name": "python",
   "nbconvert_exporter": "python",
   "pygments_lexer": "ipython3",
   "version": "3.6.13"
  }
 },
 "nbformat": 4,
 "nbformat_minor": 5
}
