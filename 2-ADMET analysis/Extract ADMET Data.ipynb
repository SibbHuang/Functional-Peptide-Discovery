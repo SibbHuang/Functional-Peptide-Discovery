{
 "cells": [
  {
   "cell_type": "code",
   "execution_count": 2,
   "id": "56c9c32b",
   "metadata": {},
   "outputs": [],
   "source": [
    "import os\n",
    "import pandas as pd"
   ]
  },
  {
   "cell_type": "markdown",
   "id": "5840f9cd",
   "metadata": {},
   "source": [
    "### Files Location:"
   ]
  },
  {
   "cell_type": "code",
   "execution_count": 1,
   "id": "eb874805",
   "metadata": {},
   "outputs": [],
   "source": [
    "fold1 = \".\\\\admetlab\\\\\"\n",
    "fold2 = \".\\\\ADMETsar\\\\\""
   ]
  },
  {
   "cell_type": "markdown",
   "id": "ecf2360d",
   "metadata": {},
   "source": [
    "### Extract the CYP-sub probability from each csv gotten from ADMETlab 3.0:"
   ]
  },
  {
   "cell_type": "code",
   "execution_count": 3,
   "id": "ea92128c",
   "metadata": {},
   "outputs": [
    {
     "name": "stdout",
     "output_type": "stream",
     "text": [
      "the data will be stored in .\\admetlab3output.csv\n",
      "discardpeptide.zip is error.\n"
     ]
    }
   ],
   "source": [
    "outputpath = \".\\\\admetlab3output.csv\"  #output path\n",
    "print(\"the data will be stored in \"+outputpath)\n",
    "CYPs = \"CYP1A2,CYP2C19,CYP3A4,CYP2C9,CYP2D6,CYP2B6\".split(\",\")\n",
    "CYPlist = [i+\"-sub\" for i in CYPs]\n",
    "CYPlist.append(\"cl-plasma\")# as column name\n",
    "labfs = os.listdir(fold1)\n",
    "dflist = []\n",
    "for i in labfs:\n",
    "    try:\n",
    "        fn = fold1+i\n",
    "        df = pd.read_csv(fn)\n",
    "        dfsub = df.loc[:,CYPlist]\n",
    "        dfsub[\"pepname\"] = i.replace(\".csv\",\"\")\n",
    "        dflist.append(dfsub)\n",
    "    except:\n",
    "        print(i+\" is error.\")\n",
    "        pass\n",
    "\n",
    "merge_df = pd.concat(dflist,axis=0)\n",
    "merge_df.to_csv(outputpath,sep=',',header=True)"
   ]
  },
  {
   "cell_type": "markdown",
   "id": "10f321e8",
   "metadata": {},
   "source": [
    "### Extract the HIA, BBB and toxicity property from txt files obtained from admetSAR 2.0:"
   ]
  },
  {
   "cell_type": "code",
   "execution_count": 5,
   "id": "32201f54",
   "metadata": {},
   "outputs": [
    {
     "name": "stdout",
     "output_type": "stream",
     "text": [
      "the data will be stored in .\\admetSAR2output.csv\n"
     ]
    }
   ],
   "source": [
    "sarfs = os.listdir(fold2)\n",
    "output = \".\\\\admetSAR2output.csv\" #output path\n",
    "print(\"the data will be stored in \"+output)\n",
    "with open(output,\"w\") as wf:\n",
    "    wf.write(\"pepname,HIA,BBB,hepatotoxicity,nephrotoxicity\\n\")\n",
    "    for f in sarfs:\n",
    "        fndata = \"\"\n",
    "        try:\n",
    "            fndata += f.replace(\".txt\",\"\")+\",\"\n",
    "            fn = fold2+f\n",
    "            with open(fn,\"r\") as rf:\n",
    "                data = rf.readlines()\n",
    "                rf.close()\n",
    "            d1 = data[0].split(\",\")\n",
    "            fndata += d1[1]+d1[2]+\",\"\n",
    "            d2 = data[2].split(\",\")\n",
    "            fndata += d2[1]+d2[2]+\",\"\n",
    "            d3 = data[33].split(\",\")\n",
    "            fndata += d3[1]+d3[2]+\",\"\n",
    "            d4 = data[38].split(\",\")\n",
    "            fndata += d4[1]+d4[2]+\"\\n\"\n",
    "        except:\n",
    "            print(f+\" is error.\")\n",
    "            pass\n",
    "        wf.write(fndata)\n",
    "    wf.close()"
   ]
  },
  {
   "cell_type": "markdown",
   "id": "ea4fb190",
   "metadata": {},
   "source": [
    "### A Test："
   ]
  },
  {
   "cell_type": "code",
   "execution_count": 17,
   "id": "5d37203c",
   "metadata": {},
   "outputs": [],
   "source": [
    "CYPs = \"CYP1A2,CYP2C19,CYP3A4,CYP2C9,CYP2D6,CYP2B6\".split(\",\")\n",
    "CYPlist = [i+\"-sub\" for i in CYPs]\n",
    "CYPlist.append(\"cl-plasma\")\n",
    "fn = fold1+\"AAAAACR.csv\"\n",
    "df = pd.read_csv(fn)\n",
    "dfsub = df.loc[:, CYPlist]"
   ]
  },
  {
   "cell_type": "code",
   "execution_count": 18,
   "id": "deb01e52",
   "metadata": {},
   "outputs": [
    {
     "data": {
      "text/html": [
       "<div>\n",
       "<style scoped>\n",
       "    .dataframe tbody tr th:only-of-type {\n",
       "        vertical-align: middle;\n",
       "    }\n",
       "\n",
       "    .dataframe tbody tr th {\n",
       "        vertical-align: top;\n",
       "    }\n",
       "\n",
       "    .dataframe thead th {\n",
       "        text-align: right;\n",
       "    }\n",
       "</style>\n",
       "<table border=\"1\" class=\"dataframe\">\n",
       "  <thead>\n",
       "    <tr style=\"text-align: right;\">\n",
       "      <th></th>\n",
       "      <th>CYP1A2-sub</th>\n",
       "      <th>CYP2C19-sub</th>\n",
       "      <th>CYP3A4-sub</th>\n",
       "      <th>CYP2C9-sub</th>\n",
       "      <th>CYP2D6-sub</th>\n",
       "      <th>CYP2B6-sub</th>\n",
       "      <th>cl-plasma</th>\n",
       "    </tr>\n",
       "  </thead>\n",
       "  <tbody>\n",
       "    <tr>\n",
       "      <th>0</th>\n",
       "      <td>2.423185e-10</td>\n",
       "      <td>1.741505e-09</td>\n",
       "      <td>1.132013e-09</td>\n",
       "      <td>8.800537e-14</td>\n",
       "      <td>0.003651</td>\n",
       "      <td>1.893784e-29</td>\n",
       "      <td>2.768556</td>\n",
       "    </tr>\n",
       "  </tbody>\n",
       "</table>\n",
       "</div>"
      ],
      "text/plain": [
       "     CYP1A2-sub   CYP2C19-sub    CYP3A4-sub    CYP2C9-sub  CYP2D6-sub  \\\n",
       "0  2.423185e-10  1.741505e-09  1.132013e-09  8.800537e-14    0.003651   \n",
       "\n",
       "     CYP2B6-sub  cl-plasma  \n",
       "0  1.893784e-29   2.768556  "
      ]
     },
     "execution_count": 18,
     "metadata": {},
     "output_type": "execute_result"
    }
   ],
   "source": [
    "dfsub"
   ]
  },
  {
   "cell_type": "code",
   "execution_count": 11,
   "id": "5b1a3303",
   "metadata": {},
   "outputs": [
    {
     "data": {
      "text/html": [
       "<div>\n",
       "<style scoped>\n",
       "    .dataframe tbody tr th:only-of-type {\n",
       "        vertical-align: middle;\n",
       "    }\n",
       "\n",
       "    .dataframe tbody tr th {\n",
       "        vertical-align: top;\n",
       "    }\n",
       "\n",
       "    .dataframe thead th {\n",
       "        text-align: right;\n",
       "    }\n",
       "</style>\n",
       "<table border=\"1\" class=\"dataframe\">\n",
       "  <thead>\n",
       "    <tr style=\"text-align: right;\">\n",
       "      <th></th>\n",
       "      <th>CYP1A2-sub</th>\n",
       "      <th>CYP2C19-sub</th>\n",
       "      <th>CYP3A4-sub</th>\n",
       "      <th>CYP2C9-sub</th>\n",
       "      <th>CYP2D6-sub</th>\n",
       "      <th>CYP2B6-sub</th>\n",
       "    </tr>\n",
       "  </thead>\n",
       "  <tbody>\n",
       "    <tr>\n",
       "      <th>0</th>\n",
       "      <td>2.423185e-10</td>\n",
       "      <td>1.741505e-09</td>\n",
       "      <td>1.132013e-09</td>\n",
       "      <td>8.800537e-14</td>\n",
       "      <td>0.003651</td>\n",
       "      <td>1.893784e-29</td>\n",
       "    </tr>\n",
       "    <tr>\n",
       "      <th>0</th>\n",
       "      <td>2.423185e-10</td>\n",
       "      <td>1.741505e-09</td>\n",
       "      <td>1.132013e-09</td>\n",
       "      <td>8.800537e-14</td>\n",
       "      <td>0.003651</td>\n",
       "      <td>1.893784e-29</td>\n",
       "    </tr>\n",
       "  </tbody>\n",
       "</table>\n",
       "</div>"
      ],
      "text/plain": [
       "     CYP1A2-sub   CYP2C19-sub    CYP3A4-sub    CYP2C9-sub  CYP2D6-sub  \\\n",
       "0  2.423185e-10  1.741505e-09  1.132013e-09  8.800537e-14    0.003651   \n",
       "0  2.423185e-10  1.741505e-09  1.132013e-09  8.800537e-14    0.003651   \n",
       "\n",
       "     CYP2B6-sub  \n",
       "0  1.893784e-29  \n",
       "0  1.893784e-29  "
      ]
     },
     "execution_count": 11,
     "metadata": {},
     "output_type": "execute_result"
    }
   ],
   "source": [
    "merge_df=pd.concat([dfsub,dfsub],axis=0)\n",
    "merge_df"
   ]
  }
 ],
 "metadata": {
  "kernelspec": {
   "display_name": "Python 3",
   "language": "python",
   "name": "python3"
  },
  "language_info": {
   "codemirror_mode": {
    "name": "ipython",
    "version": 3
   },
   "file_extension": ".py",
   "mimetype": "text/x-python",
   "name": "python",
   "nbconvert_exporter": "python",
   "pygments_lexer": "ipython3",
   "version": "3.6.13"
  }
 },
 "nbformat": 4,
 "nbformat_minor": 5
}
