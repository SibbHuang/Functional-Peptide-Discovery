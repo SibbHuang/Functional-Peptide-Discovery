{
 "cells": [
  {
   "cell_type": "markdown",
   "id": "2a9c873f",
   "metadata": {},
   "source": [
    "### Import package"
   ]
  },
  {
   "cell_type": "code",
   "execution_count": 1,
   "id": "2f11686c",
   "metadata": {},
   "outputs": [],
   "source": [
    "import os"
   ]
  },
  {
   "cell_type": "markdown",
   "id": "3cd7635e",
   "metadata": {},
   "source": [
    "### Get txt file in folder"
   ]
  },
  {
   "cell_type": "code",
   "execution_count": 11,
   "id": "57ca6414",
   "metadata": {},
   "outputs": [
    {
     "name": "stdout",
     "output_type": "stream",
     "text": [
      "Note! the download text were stored in .\\ADMETsar\\ from admetSAR 2.0\n"
     ]
    }
   ],
   "source": [
    "folder=\".\\\\ADMETsar\\\\\" \n",
    "print(\"Note! the download text were stored in \"+folder+\" from admetSAR 2.0\")\n",
    "l=os.listdir(folder)"
   ]
  },
  {
   "cell_type": "markdown",
   "id": "be490352",
   "metadata": {},
   "source": [
    "### Build relating function"
   ]
  },
  {
   "cell_type": "code",
   "execution_count": 9,
   "id": "8187d9ff",
   "metadata": {},
   "outputs": [],
   "source": [
    "def mergedata():\n",
    "    \"\"\"\n",
    "    to merge the wanted admet result from admerSAR 2.0\n",
    "    return none\n",
    "    \"\"\"\n",
    "    with open (output,\"w\",encoding=\"utf8\") as f:\n",
    "        f.write(\"Sequence,Human Intestinal Absorption,Blood Brain Barrier,Plasma protein binding,CYP3A4 substrate,CYP2C9 substrate,CYP2D6 substrate,Nephrotoxicity,Hepatotoxicity\\n\")\n",
    "        for text in l:\n",
    "            if text[-3:] == \"txt\":\n",
    "                textpath=folder+text\n",
    "                #write the header in text:\n",
    "                peptidename=text.replace(\".txt\",\"\")\n",
    "                f.write(peptidename+\",\")\n",
    "                with open(textpath,\"r\",encoding=\"utf8\") as rf:\n",
    "                    data=rf.readlines()\n",
    "                    rf.close()\n",
    "                l1=data[0]\n",
    "                n,v = TreatLine(l1)\n",
    "                f.write(v+\",\")  #wirting the Human Intestinal Absorption result\n",
    "                l2=data[2]\n",
    "                n,v = TreatLine(l2)\n",
    "                f.write(v+\",\")  #writing the Blood Brain Barrier result\n",
    "                l3=data[-3]\n",
    "                n,v = TreatLine(l3)\n",
    "                v=v.replace(\"100%\",\"%\")\n",
    "                f.write(v+\",\") #writing the Plasma protein binding result\n",
    "                l4=data[13]\n",
    "                n,v = TreatLine(l4)\n",
    "                f.write(v+\",\") #CYP3A4 substrate result\n",
    "                l5=data[14]\n",
    "                n,v = TreatLine(l5)\n",
    "                f.write(v+\",\") #CYP2C9 substrate result\n",
    "                l6=data[15]\n",
    "                n,v = TreatLine(l6)\n",
    "                f.write(v+\",\") #the last column CYP2D6 substrate result\n",
    "                l7=data[-16]\n",
    "                n,v = TreatLine(l7)\n",
    "                f.write(v+\",\")\n",
    "                l8=data[-21]\n",
    "                n,v = TreatLine(l8)\n",
    "                f.write(v+\"\\n\") #writing the Hepatotoxicity information\n",
    "            else:\n",
    "                pass\n",
    "        print(\"successful\")\n",
    "    return None\n",
    "\n",
    "def TreatLine(Line):\n",
    "    \"\"\"\n",
    "    a function embedding into mergedata()\n",
    "    return dataname,datavalue, both string object\n",
    "    \"\"\"\n",
    "    Line = Line.replace(\"\\n\",\"\")\n",
    "    Line = Line.split(\",\")\n",
    "    dataname,datavalue = Line[0],Line[1]+Line[2]\n",
    "    return dataname,datavalue"
   ]
  },
  {
   "cell_type": "markdown",
   "id": "cd18c9aa",
   "metadata": {},
   "source": [
    "### runing"
   ]
  },
  {
   "cell_type": "code",
   "execution_count": 10,
   "id": "b02b13cb",
   "metadata": {},
   "outputs": [
    {
     "name": "stdout",
     "output_type": "stream",
     "text": [
      "successful\n"
     ]
    }
   ],
   "source": [
    "if __name__==\"__main__\":\n",
    "    output=\"amdet.csv\"\n",
    "    print(\"Note! the exporting data were store in \"+output)\n",
    "    mergedata()"
   ]
  }
 ],
 "metadata": {
  "kernelspec": {
   "display_name": "Python 3",
   "language": "python",
   "name": "python3"
  },
  "language_info": {
   "codemirror_mode": {
    "name": "ipython",
    "version": 3
   },
   "file_extension": ".py",
   "mimetype": "text/x-python",
   "name": "python",
   "nbconvert_exporter": "python",
   "pygments_lexer": "ipython3",
   "version": "3.6.13"
  }
 },
 "nbformat": 4,
 "nbformat_minor": 5
}
