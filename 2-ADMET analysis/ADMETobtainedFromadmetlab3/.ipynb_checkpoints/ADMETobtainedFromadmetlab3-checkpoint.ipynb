{
 "cells": [
  {
   "cell_type": "markdown",
   "id": "cc75c123",
   "metadata": {},
   "source": [
    "### Import package："
   ]
  },
  {
   "cell_type": "code",
   "execution_count": 19,
   "id": "b0fd7b71",
   "metadata": {},
   "outputs": [],
   "source": [
    "from selenium import webdriver\n",
    "from selenium.webdriver.common.action_chains import ActionChains\n",
    "from selenium.webdriver.common.keys import Keys\n",
    "import time\n",
    "import os\n",
    "from selenium.webdriver.common.by import By\n",
    "from selenium.webdriver.support.ui import Select\n",
    "import pandas as pd"
   ]
  },
  {
   "cell_type": "markdown",
   "id": "67c8950f",
   "metadata": {},
   "source": [
    "### Load data："
   ]
  },
  {
   "cell_type": "code",
   "execution_count": 20,
   "id": "ac19bee8",
   "metadata": {
    "scrolled": true
   },
   "outputs": [
    {
     "data": {
      "text/html": [
       "<div>\n",
       "<style scoped>\n",
       "    .dataframe tbody tr th:only-of-type {\n",
       "        vertical-align: middle;\n",
       "    }\n",
       "\n",
       "    .dataframe tbody tr th {\n",
       "        vertical-align: top;\n",
       "    }\n",
       "\n",
       "    .dataframe thead th {\n",
       "        text-align: right;\n",
       "    }\n",
       "</style>\n",
       "<table border=\"1\" class=\"dataframe\">\n",
       "  <thead>\n",
       "    <tr style=\"text-align: right;\">\n",
       "      <th></th>\n",
       "      <th>peptide</th>\n",
       "      <th>smile</th>\n",
       "    </tr>\n",
       "  </thead>\n",
       "  <tbody>\n",
       "    <tr>\n",
       "      <th>0</th>\n",
       "      <td>ACEF</td>\n",
       "      <td>C[C@H](N)C(=O)N[C@@H](CS)C(=O)N[C@@H](CCC(=O)O...</td>\n",
       "    </tr>\n",
       "    <tr>\n",
       "      <th>1</th>\n",
       "      <td>TCTPW</td>\n",
       "      <td>C[C@@H](O)[C@H](N)C(=O)N[C@@H](CS)C(=O)N[C@H](...</td>\n",
       "    </tr>\n",
       "    <tr>\n",
       "      <th>2</th>\n",
       "      <td>AGCF</td>\n",
       "      <td>C[C@H](N)C(=O)NCC(=O)N[C@@H](CS)C(=O)N[C@@H](C...</td>\n",
       "    </tr>\n",
       "    <tr>\n",
       "      <th>3</th>\n",
       "      <td>APDCR</td>\n",
       "      <td>C[C@H](N)C(=O)N1CCC[C@H]1C(=O)N[C@@H](CC(=O)O)...</td>\n",
       "    </tr>\n",
       "  </tbody>\n",
       "</table>\n",
       "</div>"
      ],
      "text/plain": [
       "  peptide                                              smile\n",
       "0    ACEF  C[C@H](N)C(=O)N[C@@H](CS)C(=O)N[C@@H](CCC(=O)O...\n",
       "1   TCTPW  C[C@@H](O)[C@H](N)C(=O)N[C@@H](CS)C(=O)N[C@H](...\n",
       "2    AGCF  C[C@H](N)C(=O)NCC(=O)N[C@@H](CS)C(=O)N[C@@H](C...\n",
       "3   APDCR  C[C@H](N)C(=O)N1CCC[C@H]1C(=O)N[C@@H](CC(=O)O)..."
      ]
     },
     "execution_count": 20,
     "metadata": {},
     "output_type": "execute_result"
    }
   ],
   "source": [
    "rfilename=\".\\example.csv\"\n",
    "df=pd.read_csv(rfilename)\n",
    "df.tail() #data showd as follow:"
   ]
  },
  {
   "cell_type": "code",
   "execution_count": 21,
   "id": "fca27599",
   "metadata": {},
   "outputs": [],
   "source": [
    "peptideseq=list(df[\"peptide\"])\n",
    "peptidesmi=list(df[\"smile\"])"
   ]
  },
  {
   "cell_type": "markdown",
   "id": "364bf38a",
   "metadata": {},
   "source": [
    "### Some Function:"
   ]
  },
  {
   "cell_type": "code",
   "execution_count": 22,
   "id": "e5f45351",
   "metadata": {},
   "outputs": [],
   "source": [
    "def openpage():\n",
    "    \"\"\"\n",
    "    open the browser and enter the page\n",
    "    return driver\n",
    "    \"\"\"\n",
    "    driver=webdriver.Firefox() #open the brower\n",
    "    driver.implicitly_wait(10)\n",
    "    driver.set_window_size(580,840)\n",
    "    driver.get(\"https://admetlab3.scbdd.com/server/screening\") #open the page\n",
    "    return driver\n",
    "\n",
    "\n",
    "def dataprepare(peptidesmi,peptideseq):\n",
    "    \"\"\"\n",
    "    prepare the input data\n",
    "    return inputdata,name and state\n",
    "    \"\"\"\n",
    "    inputdata=[]\n",
    "    for i in range(1):\n",
    "        try:\n",
    "            inputdata.append(peptidesmi.pop())\n",
    "            name = peptideseq.pop()\n",
    "            state = True\n",
    "        except:\n",
    "            state = False\n",
    "    return inputdata,name,state\n",
    "\n",
    "def inputsmiles(driver,inputdata,name):\n",
    "    \"\"\"\n",
    "    according to the length of sequence to set the waitting time\n",
    "    and submit the smiles of peptide\n",
    "    return waittime, a int object\n",
    "    \"\"\"\n",
    "    workcount=len(inputdata)\n",
    "    waittime = len(name)*2  #set the waitting time\n",
    "    for i in range(workcount):\n",
    "        inputtext= inputdata[i]+\"\\n\"     \n",
    "    listinput_button = \"/html/body/div/div/main/div/ul/li[2]/button\"\n",
    "    text_area_xpath = \"/html/body/div/div/main/div/div/div[2]/form/div[1]/textarea\"\n",
    "    submit_button = \"/html/body/div/div/main/div/div/div[2]/form/div[2]/div[4]/button\"\n",
    "    driver.find_element(By.XPATH,listinput_button).click()\n",
    "    driver.find_element(By.XPATH,text_area_xpath).send_keys(inputtext)  #send the smiles\n",
    "    submit_button_click=driver.find_element(By.XPATH,submit_button).click() #click the submit button\n",
    "    return waittime\n",
    "\n",
    "def WaittingAndDownload(driver,state,inputdata,name,dlpath=\"C:\\\\Users\\\\ff\\\\Downloads\\\\\",newpath=\"C:\\\\Users\\\\ff\\\\admetlab\\\\\"):\n",
    "    \"\"\"\n",
    "    download the result and modify the stored point.\n",
    "    Note！ Files can only be moved within the same disk!\n",
    "    dlpath was the default download point of bowser.\n",
    "    newpath was the point want to stored data.\n",
    "    return None\n",
    "    \n",
    "    \"\"\"\n",
    "    waittime = inputsmiles(driver,inputdata,name)\n",
    "    time.sleep(waittime)\n",
    "    looptime = 0\n",
    "    while state:\n",
    "        looptime+=1\n",
    "        try:\n",
    "            downloadlink = \"/html/body/div/div/div/div[1]/div[3]/button\"\n",
    "            driver.find_element(By.XPATH,downloadlink).click() #successfully download result\n",
    "            state=False\n",
    "        except:\n",
    "            print(\"waitting for twice\")\n",
    "            time.sleep(waittime) #waitting for 2 min again\n",
    "            if looptime == 2:\n",
    "                state=False  #give up this work\n",
    "    time.sleep(5) #waitting for result download\n",
    "    files=os.listdir(dlpath)  # move the file to new saving point\n",
    "    try:\n",
    "        for f in files:\n",
    "            if f[0:3]==\"tmp\":\n",
    "                os.rename(dlpath+f,newpath+name+\".csv\")\n",
    "                break\n",
    "    except:\n",
    "        for f in files:\n",
    "            if f[0:3]==\"tmp\":\n",
    "                try:\n",
    "                    os.remove(f)\n",
    "                except:\n",
    "                    pass  \n",
    "    driver.back()  #go back to last page\n",
    "    time.sleep(3)\n",
    "    listinput_button = \"/html/body/div/div/main/div/ul/li[2]/button\"\n",
    "    driver.find_element(By.XPATH,listinput_button).click()\n",
    "    reset_button = \"/html/body/div/div/main/div/div/div[2]/form/div[2]/div[1]/button\"\n",
    "    driver.find_element(By.XPATH,reset_button).click()\n",
    "    return None\n",
    "\n",
    "def tryfinishAwork(driver,peptidesmi,peptideseq,dlpath,newpath):\n",
    "    inputdata,name,state=dataprepare(peptidesmi,peptideseq)\n",
    "    \n",
    "    WaittingAndDownload(driver,state,inputdata,name,dlpath=dlpath,newpath=newpath)\n",
    "    print(\"Oh, \"+name+\" is finished.\")\n",
    "    return None\n",
    "\n",
    "def loop(peptidesmi,peptideseq,dlpath,newpath):\n",
    "    #initial the page:\n",
    "    driver=openpage()\n",
    "    print(\"default download point is \"+dlpath)\n",
    "    print(\"data was stored in point \"+newpath)\n",
    "    while len(peptidesmi) !=  0:\n",
    "        tryfinishAwork(driver,peptidesmi,peptideseq,dlpath,newpath)\n",
    "    return None\n",
    "\n",
    "def cleartempfiles(dlpath):\n",
    "    \"\"\"\n",
    "    delete the tmp file\n",
    "    modify your dlpath\n",
    "    return none\n",
    "    \"\"\"\n",
    "    print(\"tmp file in \"+dlpath+\" will be removed.\" )\n",
    "    files = os.listdir(dlpath)\n",
    "    for file in files:\n",
    "        if file[0:3]==\"tmp\":\n",
    "            try:\n",
    "                os.remove(dlpath+file)\n",
    "                print(\"Note! \"+file+\" was removed.\")\n",
    "            except exception as e:\n",
    "                print(e)\n",
    "    return None"
   ]
  },
  {
   "cell_type": "markdown",
   "id": "a76e7e98",
   "metadata": {},
   "source": [
    "### Execute the task:"
   ]
  },
  {
   "cell_type": "code",
   "execution_count": 23,
   "id": "f2978dad",
   "metadata": {
    "scrolled": true
   },
   "outputs": [
    {
     "name": "stdout",
     "output_type": "stream",
     "text": [
      "default download point is C:\\Users\\ff\\Downloads\\\n",
      "data was stored in point C:\\Users\\ff\\\n",
      "Oh, APDCR is finished.\n",
      "Oh, AGCF is finished.\n",
      "Oh, TCTPW is finished.\n",
      "Oh, ACEF is finished.\n"
     ]
    }
   ],
   "source": [
    "if __name__ == \"__main__\":\n",
    "    loop(peptidesmi,peptideseq,\"C:\\\\Users\\\\ff\\\\Downloads\\\\\",\"C:\\\\Users\\\\ff\\\\\")"
   ]
  },
  {
   "cell_type": "code",
   "execution_count": 11,
   "id": "6780eba5",
   "metadata": {},
   "outputs": [
    {
     "data": {
      "text/plain": [
       "0"
      ]
     },
     "execution_count": 11,
     "metadata": {},
     "output_type": "execute_result"
    }
   ],
   "source": [
    "len(peptideseq)"
   ]
  }
 ],
 "metadata": {
  "kernelspec": {
   "display_name": "Python 3",
   "language": "python",
   "name": "python3"
  },
  "language_info": {
   "codemirror_mode": {
    "name": "ipython",
    "version": 3
   },
   "file_extension": ".py",
   "mimetype": "text/x-python",
   "name": "python",
   "nbconvert_exporter": "python",
   "pygments_lexer": "ipython3",
   "version": "3.6.13"
  }
 },
 "nbformat": 4,
 "nbformat_minor": 5
}
