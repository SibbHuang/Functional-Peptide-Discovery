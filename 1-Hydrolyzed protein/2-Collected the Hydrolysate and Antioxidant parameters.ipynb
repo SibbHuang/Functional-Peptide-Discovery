{
 "cells": [
  {
   "cell_type": "markdown",
   "id": "0bf17e32",
   "metadata": {},
   "source": [
    "### Import Package:"
   ]
  },
  {
   "cell_type": "code",
   "execution_count": 1,
   "id": "0ecca7b1",
   "metadata": {},
   "outputs": [],
   "source": [
    "from selenium import webdriver\n",
    "from selenium.webdriver.common.action_chains import ActionChains\n",
    "from selenium.webdriver.common.keys import Keys\n",
    "import time\n",
    "from selenium.webdriver.common.by import By\n",
    "from selenium.webdriver.support.ui import Select\n",
    "import pandas as pd\n",
    "from collections import Counter\n",
    "import re\n",
    "import os"
   ]
  },
  {
   "cell_type": "markdown",
   "id": "790c2e37",
   "metadata": {},
   "source": [
    "### Import Data"
   ]
  },
  {
   "cell_type": "code",
   "execution_count": 27,
   "id": "20f27538",
   "metadata": {},
   "outputs": [
    {
     "data": {
      "text/plain": [
       "['samplingPorphyra dentata',\n",
       " 'samplingPorphyra dentata.csv',\n",
       " 'samplingporphyra haitanensis',\n",
       " 'samplingporphyra haitanensis.csv',\n",
       " 'samplingPorphyra perforata',\n",
       " 'samplingPorphyra perforata.csv',\n",
       " 'samplingPorphyra purpurea',\n",
       " 'samplingPorphyra purpurea.csv',\n",
       " 'samplingPorphyra schizophylla.csv',\n",
       " 'samplingPorphyra umbilicalis',\n",
       " 'samplingPorphyra umbilicalis.csv']"
      ]
     },
     "execution_count": 27,
     "metadata": {},
     "output_type": "execute_result"
    }
   ],
   "source": [
    "files = os.listdir(\".\\\\PPsample\") #Load the file stored protein sequences\n",
    "files"
   ]
  },
  {
   "cell_type": "markdown",
   "id": "fb099939",
   "metadata": {},
   "source": [
    "### Extract the sequence from a csv file:"
   ]
  },
  {
   "cell_type": "code",
   "execution_count": 28,
   "id": "b0f8d3c4",
   "metadata": {},
   "outputs": [],
   "source": [
    "#treated with the first csv file:\n",
    "protein_csv_location=\".\\\\PPsample\\\\\"+files[0]\n",
    "protein_data=pd.read_csv(protein_csv_location)\n",
    "data1=list(protein_data[\"Sequence\"])\n",
    "data2=list(protein_data[\"Length\"])"
   ]
  },
  {
   "cell_type": "markdown",
   "id": "15eed7d7",
   "metadata": {},
   "source": [
    "### Function section:"
   ]
  },
  {
   "cell_type": "code",
   "execution_count": 4,
   "id": "9e1a2ece",
   "metadata": {},
   "outputs": [],
   "source": [
    "def openbrower():\n",
    "    \"\"\"\n",
    "    open the brower:\n",
    "    return driver\n",
    "    \"\"\"\n",
    "    driver=webdriver.Firefox()\n",
    "    driver.implicitly_wait(10)\n",
    "    driver.set_window_size(300,6600)\n",
    "    return driver\n",
    "\n",
    "def seqtolink(driver,seq,enzyme=\"&enz1=13&enz2=12&enz3=11\"):\n",
    "    \"\"\"\n",
    "    build the required link and send the link\n",
    "    the utilized enzymes could be modified in parameter enzyme\n",
    "    Three hydrolase enzymes used in this function were trypsin(No. 12), chymotrypsin A (No. 11) and pepsin (No.13)\n",
    "    return None\n",
    "    \"\"\"\n",
    "    linkhead = \"https://biochemia.uwm.edu.pl/biopep/report_cutting_for_seq.php?txt_seq_e=&txt_seq=\"\n",
    "    enzymeinformation=enzyme\n",
    "    linkend = \"&but_report.x=169&but_report.y=10&prot=&e2=&e3=&ktory=&e1=eee\"\n",
    "    link = linkhead+seq+enzymeinformation+linkend\n",
    "    driver.get(link)\n",
    "    return None\n",
    "\n",
    "def getdata(driver,seqid,content):\n",
    "    \"\"\"\n",
    "    get the data about hydrolase peptides\n",
    "    return content, all hydrolase peptides about these proteins\n",
    "    \"\"\"\n",
    "    hpep_xpath = \"/html/body/div/table[1]/tbody\"\n",
    "    hpep = driver.find_element(By.XPATH,hpep_xpath).text.replace(\" - \",\",\")\n",
    "    hpep=hpep.replace(\"Results of enzyme action\\n\",\"\")\n",
    "    hpep2=hpep.replace(\",\",\",\"+str(seqid)+\"\\n\")\n",
    "    content+=hpep2+\"\\n\"\n",
    "    return content,hpep"
   ]
  },
  {
   "cell_type": "code",
   "execution_count": 5,
   "id": "55249dd1",
   "metadata": {},
   "outputs": [],
   "source": [
    "def statpep(string,num,content): \n",
    "    \"\"\"\n",
    "    Statistical number of peptide from a protein\n",
    "    return string, one line consist of peptide+frequency+protein sequence index\n",
    "    \"\"\"\n",
    "    content = content.split(\",\")\n",
    "    cdict = Counter(content) # a dict\n",
    "    peptidename = list(cdict.keys())\n",
    "    peptidefreq = list(cdict.values())\n",
    "    length = len(peptidefreq)\n",
    "    del cdict\n",
    "    for i in range(length):\n",
    "        string += peptidename[i]+\",\"+str(peptidefreq[i])+\",\"+str(num)+\"\\n\"\n",
    "    return string"
   ]
  },
  {
   "cell_type": "code",
   "execution_count": 6,
   "id": "b322b6a4",
   "metadata": {},
   "outputs": [],
   "source": [
    "def intoperportyPage(driver):\n",
    "    paramter_link = \"/html/body/div/table[2]/tbody/tr/td[2]/form/input[8]\"\n",
    "    driver.find_element(By.XPATH,paramter_link).click()\n",
    "    time.sleep(3)\n",
    "    return None\n",
    "\n",
    "def _GetDHt(driver):\n",
    "    table_xpath = \"/html/body/form/table[1]/tbody\"\n",
    "    data = driver.find_element(By.XPATH,table_xpath).text\n",
    "    data = data.replace(\"DHt [%] \\n\",\"\")\n",
    "    return data\n",
    "\n",
    "def _recordDHt(string,seqid,data):\n",
    "    string += data+\",\"+str(seqid)+\"\\n\"\n",
    "    return string\n",
    "\n",
    "def _GetParameter(driver):\n",
    "    table_xpath = \"/html/body/form/table[2]\"\n",
    "    table = driver.find_element(By.XPATH,table_xpath)\n",
    "    tabledatal = []\n",
    "    tr = table.find_elements(By.TAG_NAME,'tr') \n",
    "    for linedata in tr:\n",
    "        tabledatal.append(linedata.text)\n",
    "    return tabledatal\n",
    "\n",
    "def intoperportyPage2(driver):\n",
    "    pl = \"/html/body/div/table[2]/tbody/tr/td[1]/form/input[9]\"\n",
    "    driver.find_element(By.XPATH,pl).click()\n",
    "    time.sleep(2)\n",
    "    return None\n",
    "\n",
    "def getaop(driver):\n",
    "    table_ele = \"/html/body/form/table/tbody\"\n",
    "    table = driver.find_element(By.XPATH,table_ele)\n",
    "    tdl = []\n",
    "    tr = table.find_elements(By.TAG_NAME,'tr') \n",
    "    for linedata in tr:\n",
    "        tdl.append(linedata.text)\n",
    "    return tdl\n",
    "\n",
    "def foundParameter(clist):\n",
    "    \"\"\"\n",
    "    found the antioxidant property about the protein sequence\n",
    "    return data, if this Hydrolysate did not contained any AOP, the data equal to antioxidative,0,0,0,0\n",
    "    \"\"\"\n",
    "    data = \"\"\n",
    "    pattern = \"antioxidative\"\n",
    "    for string in clist:\n",
    "        hit = re.search(pattern,string)\n",
    "        if hit:\n",
    "            data = clist[clist.index(string)]\n",
    "            break\n",
    "        else:\n",
    "            pass\n",
    "    if data != \"\":\n",
    "        data = data.replace(\"  \",\",\")[2:]\n",
    "        \n",
    "    elif data == \"\":\n",
    "        data = \"antioxidative,0,0,0,0\"\n",
    "    return data\n",
    "\n",
    "def foundParameter2(clist,string,seqid):\n",
    "    AOP = []\n",
    "    pattern = \"antioxidative\"\n",
    "    for line in clist:\n",
    "        hit = re.search(pattern,line)\n",
    "        if hit:\n",
    "            data = line.split(\"  \")[2]\n",
    "            AOP.append(data)\n",
    "        else:\n",
    "            pass\n",
    "    if len(AOP) != 0:\n",
    "        AOP = list(set(AOP))\n",
    "        for i in AOP:\n",
    "            string += i+\",\"+str(seqid)+\"\\n\"\n",
    "    elif len(AOP) == 0:\n",
    "        string += \"None\"+ \",\"+str(seqid)+\"\\n\"\n",
    "    return string"
   ]
  },
  {
   "cell_type": "markdown",
   "id": "7c53b43e",
   "metadata": {},
   "source": [
    "### Main section:"
   ]
  },
  {
   "cell_type": "code",
   "execution_count": 30,
   "id": "4e881efd",
   "metadata": {
    "scrolled": false
   },
   "outputs": [
    {
     "name": "stdout",
     "output_type": "stream",
     "text": [
      "0\n"
     ]
    }
   ],
   "source": [
    "pepFragmentcontent=\"\"  #collect enzyme action peptide fragment\n",
    "freqstring = \"\"  #get the frequency of peptide happen in sequence\n",
    "DHTstring = \"\"  #record DHt\n",
    "otherparameters = \"\"  #record Ae and W\n",
    "aopstring = \"\"  #record the AOP in sequence after enzyme action\n",
    "badpep = \"\"  #record the sequence which can'n be analysis\n",
    "\n",
    "\n",
    "driver = openbrower() #open the brower\n",
    "for i in range(len(data1)):\n",
    "    try:\n",
    "        if len(data1[i]) != 0:\n",
    "            seqtolink(driver,data1[i]) #going to the enzyme action finished web page\n",
    "            pepFragmentcontent,content = getdata(driver,i,pepFragmentcontent) #collect the enzyme action fragments\n",
    "\n",
    "            freqstring = statpep(freqstring,i,content) #get each peptide frequency\n",
    "\n",
    "            intoperportyPage(driver) #into new page\n",
    "\n",
    "            prodata = _GetDHt(driver)\n",
    "            DHTstring = _recordDHt(DHTstring,i,prodata)\n",
    "\n",
    "            oplist = _GetParameter(driver)  #get other parameters shch as AE, W\n",
    "            otherparameters += foundParameter(oplist)+\",\"+str(i)+\"\\n\"\n",
    "\n",
    "            seqtolink(driver,data1[i]) #update page\n",
    "\n",
    "            intoperportyPage2(driver)\n",
    "            aoplist = getaop(driver)\n",
    "            aopstring = foundParameter2(aoplist,aopstring,i)\n",
    "            if i%100 == 0:\n",
    "                print(\"Luckly! Hydrolysis information for \"+str(i)+\" sequences has been obtained.\")\n",
    "        else:\n",
    "            pass\n",
    "    except Exception as e:\n",
    "        print(e)\n",
    "        print(\"Note! \"+str(i)+\" is Error!\")\n",
    "        badpep += str(i+1)+\",\"+data1[i]+\"\\n\"\n",
    "        continue\n",
    "\n",
    "with open(\"DHT.csv\",\"w\") as f:\n",
    "    f.write(\"DHT,seqid\\n\")\n",
    "    f.write(DHTstring)\n",
    "    f.close()\n",
    "\n",
    "with open(\"OtherP.csv\",\"w\") as f:\n",
    "    f.write(\"Activity,AE,W,BE,V,seqid\\n\")\n",
    "    f.write(otherparameters)\n",
    "    f.close()\n",
    "    \n",
    "with open(\"AOP.csv\",\"w\") as f:\n",
    "    f.write(\"AOP,seqid\\n\")\n",
    "    f.write(aopstring)\n",
    "    f.close()\n",
    "    \n",
    "with open(\"enzymeP.csv\",\"w\") as f:\n",
    "    f.write(\"peptide,seqid\\n\")\n",
    "    f.write(pepFragmentcontent)\n",
    "    f.close()\n",
    "with open(\"enzymePstat.csv\",\"w\") as f:\n",
    "    f.write(\"peptide,freq,seqid\\n\")\n",
    "    f.write(freqstring)\n",
    "    f.close()\n",
    "\n",
    "with open(\"badpep.csv\",\"w\") as f:\n",
    "    f.write(\"pepid,sequence\\n\")\n",
    "    f.write(badpep)\n",
    "    f.close()"
   ]
  },
  {
   "cell_type": "code",
   "execution_count": 20,
   "id": "de82243a",
   "metadata": {},
   "outputs": [],
   "source": [
    "with open(\"DHT.csv\",\"w\") as f:\n",
    "    f.write(\"DHT,seqid\\n\")\n",
    "    f.write(DHTstring)\n",
    "    f.close()\n",
    "\n",
    "with open(\"OtherP.csv\",\"w\") as f:\n",
    "    f.write(\"Activity,AE,W,BE,V,seqid\\n\")\n",
    "    f.write(otherparameters)\n",
    "    f.close()\n",
    "    \n",
    "with open(\"AOP.csv\",\"w\") as f:\n",
    "    f.write(\"AOP,seqid\\n\")\n",
    "    f.write(aopstring)\n",
    "    f.close()\n",
    "    \n",
    "with open(\"enzymeP.csv\",\"w\") as f:\n",
    "    f.write(\"peptide,seqid\\n\")\n",
    "    f.write(pepFragmentcontent)\n",
    "    f.close()\n",
    "with open(\"enzymePstat.csv\",\"w\") as f:\n",
    "    f.write(\"peptide,freq,seqid\\n\")\n",
    "    f.write(freqstring)\n",
    "    f.close()\n",
    "with open(\"badpep.csv\",\"w\") as f:\n",
    "    f.write(\"pepid,sequence\\n\")\n",
    "    f.write(badpep)\n",
    "    "
   ]
  },
  {
   "cell_type": "code",
   "execution_count": null,
   "id": "a5d52d07",
   "metadata": {},
   "outputs": [],
   "source": []
  }
 ],
 "metadata": {
  "kernelspec": {
   "display_name": "Python 3",
   "language": "python",
   "name": "python3"
  },
  "language_info": {
   "codemirror_mode": {
    "name": "ipython",
    "version": 3
   },
   "file_extension": ".py",
   "mimetype": "text/x-python",
   "name": "python",
   "nbconvert_exporter": "python",
   "pygments_lexer": "ipython3",
   "version": "3.6.13"
  }
 },
 "nbformat": 4,
 "nbformat_minor": 5
}
