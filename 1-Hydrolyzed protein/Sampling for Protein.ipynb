{
 "cells": [
  {
   "cell_type": "markdown",
   "id": "68ce1f2e",
   "metadata": {},
   "source": [
    "### Import Package："
   ]
  },
  {
   "cell_type": "code",
   "execution_count": 1,
   "id": "3fc51c07",
   "metadata": {},
   "outputs": [],
   "source": [
    "import pandas as pd\n",
    "import os"
   ]
  },
  {
   "cell_type": "code",
   "execution_count": 2,
   "id": "5defd515",
   "metadata": {},
   "outputs": [],
   "source": [
    "folder = \".\\\\PP\\\\\"\n",
    "files = os.listdir(folder)\n",
    "for i in files:\n",
    "    i_=folder+i\n",
    "    df = pd.read_csv(i_)\n",
    "    i__ =folder+\"sampling\"+i\n",
    "    df_ = df.sample(frac=0.3,axis=0)\n",
    "    df_.to_csv(i__,index=False)\n"
   ]
  },
  {
   "cell_type": "code",
   "execution_count": null,
   "id": "907f2977",
   "metadata": {},
   "outputs": [],
   "source": [
    "folder = \"D:\\\\学习\\\\实验班\\\\紫菜蛋白\\\\1375紫菜蛋白水解数据\\\\\"\n",
    "filename = \n",
    "df = pd.read_csv(folder+filename)\n",
    "pcc =list(df[\"CC\"])\n",
    "pccf = list(df[\"Frequency\"])\n",
    "df.head()"
   ]
  },
  {
   "cell_type": "code",
   "execution_count": null,
   "id": "2624c0f0",
   "metadata": {},
   "outputs": [],
   "source": [
    "###Load CC terms:\n",
    "dfcc = pd.read_csv()\n",
    "ccterms = dfcc[\"CC\"]\n",
    "ccterms.head()"
   ]
  },
  {
   "cell_type": "code",
   "execution_count": null,
   "id": "963e8fb9",
   "metadata": {},
   "outputs": [],
   "source": [
    "content = \"\"\n",
    "for cc in ccterms:\n",
    "    for i in range(len(pccf)):\n",
    "        if cc == pcc[i]:\n",
    "            content+=str(pccf[i])+\",\"\n",
    "        else:\n",
    "            content+=\"0,\"\n",
    "content+=\"\\n\"\n",
    "\n",
    "with open(\"CCmes.csv\",\"w+\") as f:\n",
    "    for cc in ccterms:\n",
    "        f.write(cc+\",\")\n",
    "    f.write(\"\\n\")\n",
    "    f.write(content)\n",
    "   "
   ]
  }
 ],
 "metadata": {
  "kernelspec": {
   "display_name": "Python 3",
   "language": "python",
   "name": "python3"
  },
  "language_info": {
   "codemirror_mode": {
    "name": "ipython",
    "version": 3
   },
   "file_extension": ".py",
   "mimetype": "text/x-python",
   "name": "python",
   "nbconvert_exporter": "python",
   "pygments_lexer": "ipython3",
   "version": "3.6.13"
  }
 },
 "nbformat": 4,
 "nbformat_minor": 5
}
