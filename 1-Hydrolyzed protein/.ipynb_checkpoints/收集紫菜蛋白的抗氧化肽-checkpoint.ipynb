{
 "cells": [
  {
   "cell_type": "code",
   "execution_count": null,
   "id": "9cf762e6",
   "metadata": {},
   "outputs": [],
   "source": [
    " #trypsin 胰蛋白酶 12\n",
    "#chymotrypsin A糜蛋白酶A 11\n",
    "#pepsin 胃蛋白酶 13"
   ]
  },
  {
   "cell_type": "code",
   "execution_count": null,
   "id": "0ecca7b1",
   "metadata": {},
   "outputs": [],
   "source": [
    "from selenium import webdriver\n",
    "from selenium.webdriver.common.action_chains import ActionChains\n",
    "from selenium.webdriver.common.keys import Keys\n",
    "import time\n",
    "#为了获取xpath：\n",
    "from selenium.webdriver.common.by import By\n",
    "#为了操作下拉列表：\n",
    "from selenium.webdriver.support.ui import Select\n",
    "\n",
    "#方便数据处理：\n",
    "import pandas as pd"
   ]
  },
  {
   "cell_type": "markdown",
   "id": "790c2e37",
   "metadata": {},
   "source": [
    "### Import Data"
   ]
  },
  {
   "cell_type": "code",
   "execution_count": null,
   "id": "20f27538",
   "metadata": {},
   "outputs": [],
   "source": [
    "inf = \"\"\n",
    "protein_csv_location=r\".\\\\Porphyra.csv\"\n",
    "\n",
    "#将csv的内容读取为一个dataframe，默认第一行为列名：\n",
    "protein_data=pd.read_csv(protein_csv_location)\n",
    "\n",
    "#将数据转为列表：\n",
    "data1=list(protein_data[\"Sequence\"])\n",
    "data2=list(protein_data[\"Length\"])"
   ]
  },
  {
   "cell_type": "code",
   "execution_count": null,
   "id": "b322b6a4",
   "metadata": {},
   "outputs": [],
   "source": [
    "def createlink(seq):\n",
    "    linkhead = \"https://biochemia.uwm.edu.pl/biopep/report_cutting_for_seq.php?txt_seq_e=&txt_seq=\"\n",
    "    linkend = \"&enz1=13&enz2=12&enz3=11&but_report.x=169&but_report.y=10&prot=&e2=&e3=&ktory=&e1=eee\"\n",
    "    link = linkhead+seq+linkend\n",
    "    return link\n",
    "\n",
    "def getdata(link):\n",
    "    dr.get(link)\n",
    "    hpep = dr.find_element(By.XPATH,hpep_xpath).text.replace(\" - \",\",\")\n",
    "    return hpep #a string\n",
    "\n",
    "def getperporty():\n",
    "    dr.find_element(By.XPATH,paramter_link).click()\n",
    "    time.sleep(3)\n",
    "    "
   ]
  },
  {
   "cell_type": "code",
   "execution_count": null,
   "id": "9d5ef7ed",
   "metadata": {},
   "outputs": [],
   "source": []
  },
  {
   "cell_type": "code",
   "execution_count": null,
   "id": "df542fdd",
   "metadata": {},
   "outputs": [],
   "source": [
    "def _GetHeadList():\n",
    "    table_xpath = \"/html/body/form/table[2]\"\n",
    "    table = find_element(By.XPATH,table_xpath)\n",
    "    tabledata = []\n",
    "    tr = table.find_elements(By.TAG_NAME,'tr') \n",
    "    for linedata in tr:\n",
    "        tabledata.append(linedata.text)\n",
    "    return tabledata"
   ]
  },
  {
   "cell_type": "code",
   "execution_count": null,
   "id": "99c714a1",
   "metadata": {},
   "outputs": [],
   "source": [
    "hpep_xpath = \"/html/body/div/table[1]/tbody\"\n",
    "\n",
    "paramter_link = \"/html/body/div/table[2]/tbody/tr/td[2]/form/input[8]\"\n",
    "DHt_xpath = \"/html/body/form/table[1]/tbody/tr[2]/td\""
   ]
  },
  {
   "cell_type": "code",
   "execution_count": null,
   "id": "4e881efd",
   "metadata": {},
   "outputs": [],
   "source": [
    "\n",
    "text = \" \n",
    "        SGACASIL - IR - M - EL - AQPGN - QL - L - L - GN - H - QIY - N - VL - VTEH - AF - L - M - IF - F - M - VM - PVL - IGGF - GN - W - F - VPIM - IGAPDM - AF - PR - L - N - N - ISF - W - L - L - PPSL - CL - L - L - GSAM - VEVGVGTGW - TL - Y - PPL - SSIQSH - SGGAVH - L - AIF - SL - H - L - SGASSIL - GAIIF - ITTIF - N - M - R - N - PGQSM - Y - R - IPL - F - VW - SIL - ITAF - L - L - L - L - AVPVL - AGAITM - L - L - TDR - N - F - N - TTF - F - DPSGGGDPVL - Y - QH - L        \""
   ]
  },
  {
   "cell_type": "code",
   "execution_count": null,
   "id": "59b3db13",
   "metadata": {},
   "outputs": [],
   "source": [
    "dr = webdriver.Chrome()\n",
    "\n"
   ]
  }
 ],
 "metadata": {
  "kernelspec": {
   "display_name": "Python 3",
   "language": "python",
   "name": "python3"
  },
  "language_info": {
   "codemirror_mode": {
    "name": "ipython",
    "version": 3
   },
   "file_extension": ".py",
   "mimetype": "text/x-python",
   "name": "python",
   "nbconvert_exporter": "python",
   "pygments_lexer": "ipython3",
   "version": "3.6.13"
  }
 },
 "nbformat": 4,
 "nbformat_minor": 5
}
