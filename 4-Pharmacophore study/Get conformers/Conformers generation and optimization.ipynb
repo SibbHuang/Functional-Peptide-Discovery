{
 "cells": [
  {
   "cell_type": "markdown",
   "id": "5125ad77",
   "metadata": {},
   "source": [
    "### Import Module:"
   ]
  },
  {
   "cell_type": "code",
   "execution_count": 2,
   "id": "6f0688d7",
   "metadata": {},
   "outputs": [],
   "source": [
    "from rdkit import Chem\n",
    "from rdkit.Chem import Draw\n",
    "from rdkit.Chem import AllChem\n",
    "import pandas as pd\n",
    "import os"
   ]
  },
  {
   "cell_type": "code",
   "execution_count": 1,
   "id": "f4c4a0bd",
   "metadata": {},
   "outputs": [
    {
     "data": {
      "text/plain": [
       "'2021.09.4'"
      ]
     },
     "execution_count": 1,
     "metadata": {},
     "output_type": "execute_result"
    }
   ],
   "source": [
    "import rdkit\n",
    "rdkit.__version__"
   ]
  },
  {
   "cell_type": "markdown",
   "id": "126ca400",
   "metadata": {},
   "source": [
    "### Converting sequences into SMILEs and Mol objects:"
   ]
  },
  {
   "cell_type": "code",
   "execution_count": 3,
   "id": "3c67ea80",
   "metadata": {},
   "outputs": [],
   "source": [
    "#convert peptide to smi:\n",
    "def convert_smi(peptide):\n",
    "    peptide_smile = Chem.MolToSmiles(Chem.MolFromFASTA(peptide))\n",
    "    return peptide_smile\n",
    "\n",
    "#convert smi to mol:\n",
    "def smi2mol(smi):\n",
    "    mol = Chem.MolFromSmiles(smi)\n",
    "    m3d = Chem.AddHs(mol)\n",
    "    return m3d"
   ]
  },
  {
   "cell_type": "markdown",
   "id": "dd3fcc0c",
   "metadata": {},
   "source": [
    "### Using ETKDG and MMFF method optimized 3D conformers:"
   ]
  },
  {
   "cell_type": "code",
   "execution_count": 18,
   "id": "276e69b9",
   "metadata": {},
   "outputs": [],
   "source": [
    "def ConformerGenerate(mol,peptide,logtext=\"Optenergy.log\",log=True,numconfs=200):\n",
    "    '''\n",
    "    mol is the mol object from function smi2mol(smi).\n",
    "    peptide is the currently processde peptide sequence,type is String.\n",
    "    logtext is the log file which stored the coverage energy information about corresponding\n",
    "    conformer.\n",
    "    numconfs is a int that sets the number of conformers wanted to generate.\n",
    "    '''\n",
    "    cids = AllChem.EmbedMultipleConfs(mol, numConfs=numconfs,clearConfs=False)   \n",
    "    res = AllChem.MMFFOptimizeMoleculeConfs(mol,numThreads=0,maxIters=800) #Energy Optimization\n",
    "    if log==True:\n",
    "        with open(logtext,\"a+\") as f: #Record the Log\n",
    "            f.write(\"*-\"*8+peptide+\"*-\"*8+\"\\n\")\n",
    "            f.write(\"Conformer optimized successfully,if coverage_state equal 0. \\n\"+\"coverage_state,conformer_energy\\n\")\n",
    "            for c,e in res:\n",
    "                f.write(str(c)+\",\"+str(e)+\"\\n\")\n",
    "            f.write(\"\\n\")\n",
    "            f.close()\n",
    "    return mol,cids"
   ]
  },
  {
   "cell_type": "markdown",
   "id": "4d4acca6",
   "metadata": {},
   "source": [
    "### Screening the repeatting Conformers Using RMSD:"
   ]
  },
  {
   "cell_type": "code",
   "execution_count": 19,
   "id": "b1943ca4",
   "metadata": {},
   "outputs": [],
   "source": [
    "def findsameconfs(mol,confs_num):\n",
    "    \"\"\"\n",
    "    The RMSD value of each conformer was calculated.\n",
    "    The first conformer utilized as the template to get RMSD of others.\n",
    "    The RMSD values less than 1 A were removed.\n",
    "    \"\"\"\n",
    "    count = confs_num  \n",
    "    sameids = []\n",
    "    confsset = [id for id in range(confs_num)]\n",
    "    for confi in range(count):\n",
    "        for confj in range(confi+1,count):\n",
    "            rmsd = AllChem.GetConformerRMS(mol,confi,confj)\n",
    "            if rmsd < 1:\n",
    "                sameids.append(confi)\n",
    "            sameids=list(set(sameids))\n",
    "    for i in sameids:\n",
    "        confsset.remove(i)\n",
    "    return confsset\n",
    "def retrieved_diverse_conf(mol):\n",
    "    \"\"\"\n",
    "    Based on the RMSD values, the index of different conformers were extracted.\n",
    "    \"\"\"\n",
    "    rmslist = []\n",
    "    AllChem.AlignMolConformers(mol, RMSlist=rmslist)\n",
    "    extractlist = [] \n",
    "    for i in range(len(rmslist)):  # Logging the index of conformer with RMSD > 1 A\n",
    "        if rmslist[i] > 1:\n",
    "            extractlist.append(i)\n",
    "    extractlist.append(0)\n",
    "    return extractlist\n"
   ]
  },
  {
   "cell_type": "markdown",
   "id": "2e614121",
   "metadata": {},
   "source": [
    "### Export the SDF file:"
   ]
  },
  {
   "cell_type": "code",
   "execution_count": 20,
   "id": "003c16f5",
   "metadata": {},
   "outputs": [],
   "source": [
    "def generateMol(molname,mol,conflist,confnum,cwd,swd):\n",
    "    \"\"\"\n",
    "    Saved the obtained conformers of each compound to a local SDF file.\n",
    "    molname is the filename of this compound SDF file.\n",
    "    mol is the mol object obtained from previous step.\n",
    "    conflist is the index list of various conformers.\n",
    "    cwd is the current working directory.\n",
    "    swd is the path wanted to export sdf file.\n",
    "    \"\"\"\n",
    "    w = Chem.SDWriter(molname+\".sdf\")\n",
    "    count = 0\n",
    "    for cid in conflist:\n",
    "        count += 1\n",
    "        w.write(mol, confId=cid)\n",
    "        if count == confnum:  #only record top 100 conformers\n",
    "            break\n",
    "    w.close()\n",
    "    addname(cwd,molname+\".sdf\")   #add peptide sequence for each conformer within signle sdf\n",
    "    os.rename(cwd+molname+\"2.sdf\",swd+molname+\".sdf\")#change folder of sdf\n",
    "    return None\n",
    "\n",
    "def addname(folder,filename):\n",
    "    \"\"\"\n",
    "    Added peptide sequence String in each conformers header.\n",
    "    This makes it easy to identify which peptide this conformation belongs to \n",
    "    in pymol ir Pharmit.    \n",
    "    \"\"\"\n",
    "    with open (folder+filename,\"r\") as fr:\n",
    "        content = fr.readlines()\n",
    "        fr.close()\n",
    "    conformerpart = []\n",
    "    for linenum in range(len(content)):\n",
    "        if content[linenum][0:22] == \"     RDKit          3D\":\n",
    "            conformerpart.append(linenum)\n",
    "        if content[linenum][0:4] == \"$$$$\":\n",
    "            conformerpart.append(linenum)\n",
    "    conformerpart.sort()\n",
    "    with open (folder+filename.replace(\".sdf\",\"\")+\"2.sdf\",\"w+\") as fw:\n",
    "        for confnum in range(int(len(conformerpart)/2)):\n",
    "            later = conformerpart.pop()\n",
    "            former = conformerpart.pop()\n",
    "            fw.write(filename+\"\\n\")\n",
    "            for line in range(former,later+1):\n",
    "                fw.write(content[line])\n",
    "        fw.close()\n",
    "    return None"
   ]
  },
  {
   "cell_type": "markdown",
   "id": "eedd1492",
   "metadata": {},
   "source": [
    "### Load Smiles, generate Mol and add H atom for Molecules:"
   ]
  },
  {
   "cell_type": "code",
   "execution_count": 21,
   "id": "ccd9aa30",
   "metadata": {},
   "outputs": [
    {
     "name": "stdout",
     "output_type": "stream",
     "text": [
      "Note! your input data is .\\example.csv\n"
     ]
    }
   ],
   "source": [
    "#Path to a folder that holds csv files of Data sequences: \n",
    "folder = \".\\\\\"\n",
    "file=folder+\"example.csv\"\n",
    "print(\"Note! your input data is \"+file)"
   ]
  },
  {
   "cell_type": "code",
   "execution_count": 22,
   "id": "320077da",
   "metadata": {},
   "outputs": [
    {
     "name": "stdout",
     "output_type": "stream",
     "text": [
      "(2, 7)\n"
     ]
    },
    {
     "data": {
      "text/html": [
       "<div>\n",
       "<style scoped>\n",
       "    .dataframe tbody tr th:only-of-type {\n",
       "        vertical-align: middle;\n",
       "    }\n",
       "\n",
       "    .dataframe tbody tr th {\n",
       "        vertical-align: top;\n",
       "    }\n",
       "\n",
       "    .dataframe thead th {\n",
       "        text-align: right;\n",
       "    }\n",
       "</style>\n",
       "<table border=\"1\" class=\"dataframe\">\n",
       "  <thead>\n",
       "    <tr style=\"text-align: right;\">\n",
       "      <th></th>\n",
       "      <th>pepname</th>\n",
       "      <th>HIA</th>\n",
       "      <th>BBB</th>\n",
       "      <th>hepatotoxicity</th>\n",
       "      <th>nephrotoxicity</th>\n",
       "      <th>score</th>\n",
       "      <th>score.1</th>\n",
       "    </tr>\n",
       "  </thead>\n",
       "  <tbody>\n",
       "    <tr>\n",
       "      <th>0</th>\n",
       "      <td>PPCPW</td>\n",
       "      <td>0.6166</td>\n",
       "      <td>-0.600</td>\n",
       "      <td>-0.5125</td>\n",
       "      <td>-0.8811</td>\n",
       "      <td>0.023640</td>\n",
       "      <td>2.363987</td>\n",
       "    </tr>\n",
       "    <tr>\n",
       "      <th>1</th>\n",
       "      <td>VVCTY</td>\n",
       "      <td>0.9193</td>\n",
       "      <td>-0.725</td>\n",
       "      <td>-0.6038</td>\n",
       "      <td>-0.5694</td>\n",
       "      <td>0.015041</td>\n",
       "      <td>1.504145</td>\n",
       "    </tr>\n",
       "  </tbody>\n",
       "</table>\n",
       "</div>"
      ],
      "text/plain": [
       "  pepname     HIA    BBB  hepatotoxicity  nephrotoxicity     score   score.1\n",
       "0   PPCPW  0.6166 -0.600         -0.5125         -0.8811  0.023640  2.363987\n",
       "1   VVCTY  0.9193 -0.725         -0.6038         -0.5694  0.015041  1.504145"
      ]
     },
     "execution_count": 22,
     "metadata": {},
     "output_type": "execute_result"
    }
   ],
   "source": [
    "data = pd.read_csv(file)\n",
    "print(data.shape)\n",
    "data.head()"
   ]
  },
  {
   "cell_type": "markdown",
   "id": "f8afd11f",
   "metadata": {},
   "source": [
    "### Loop:"
   ]
  },
  {
   "cell_type": "code",
   "execution_count": 23,
   "id": "25aa5c77",
   "metadata": {},
   "outputs": [
    {
     "name": "stdout",
     "output_type": "stream",
     "text": [
      "Note! the current work path is .\\\n",
      "Note! the sdf were stored in path .\\output\\\n",
      "Note! the number of exporting conformers are 100\n",
      "successfully!\n"
     ]
    }
   ],
   "source": [
    "cwd=\".\\\\\" \n",
    "swd=\".\\\\output\\\\\"\n",
    "confnum=100\n",
    "print(\"Note! the current work path is \"+cwd)\n",
    "print(\"Note! the sdf were stored in path \"+swd)\n",
    "print(\"Note! the number of exporting conformers are \"+str(confnum))\n",
    "peptideseq = data[\"pepname\"]\n",
    "for pep in peptideseq:\n",
    "    try:\n",
    "        smi = convert_smi(pep)\n",
    "        mol = smi2mol(smi)\n",
    "        mol,cids = ConformerGenerate(mol,pep,logtext=\"Optenergy.log\",log=True,numconfs=200) #200 is the generated conformers\n",
    "        elist = findsameconfs(mol,confs_num=len(cids))\n",
    "        generateMol(pep,mol,elist,confnum,cwd,swd) \n",
    "    except Exception as e:\n",
    "        print(e)\n",
    "print(\"successfully!\")"
   ]
  },
  {
   "cell_type": "markdown",
   "id": "82f0b97e",
   "metadata": {},
   "source": [
    "### Export SMILEs data as csv file:"
   ]
  },
  {
   "cell_type": "code",
   "execution_count": null,
   "id": "276b40cc",
   "metadata": {},
   "outputs": [],
   "source": [
    "peptideseq = data[\"pepname\"]  #extract the sequence data\n",
    "smilefilename = \"PeptideSmi.csv\"  #Filename of output file"
   ]
  },
  {
   "cell_type": "code",
   "execution_count": 15,
   "id": "cc8a0c05",
   "metadata": {},
   "outputs": [],
   "source": [
    "with open(smilefilename,\"w\") as f:\n",
    "    f.write(\"peptide,smiles\\n\")\n",
    "    for pep in peptideseq:\n",
    "        try:\n",
    "            smi = convert_smi(pep)\n",
    "            f.write(pep+\",\"+smi+\"\\n\")\n",
    "        except Exception as e:\n",
    "            print(e)\n",
    "            continue\n",
    "    f.close()"
   ]
  },
  {
   "cell_type": "markdown",
   "id": "e0c1e9de",
   "metadata": {},
   "source": [
    "### Some non-peptide compounds:"
   ]
  },
  {
   "cell_type": "code",
   "execution_count": 25,
   "id": "405dbdb1",
   "metadata": {},
   "outputs": [
    {
     "name": "stdout",
     "output_type": "stream",
     "text": [
      "Note! the current work path is .\\\n",
      "Note! the sdf were stored in path .\\output\\\n",
      "Note! the number of exporting conformers are 100\n",
      "successfully!\n"
     ]
    }
   ],
   "source": [
    "\n",
    "# count = 0\n",
    "# for c in comlist:\n",
    "#     try:\n",
    "#         count += 1\n",
    "#         mol = smi2mol(c)\n",
    "#         mol = ConformerGenerate(mol,str(count),\"./clog.txt\",numconfs=100)\n",
    "#         elist = retrieved_diverse_conf(mol)\n",
    "#         generateMol(str(count),mol,elist,cwd=\"E:\\\\jupyter_save_address\\\\Pharmacophore\\\\\",swd=\"D:\\\\学习\\\\实验班\\\\紫菜蛋白\\\\药效团\\\\conformersofactive\\\\\")\n",
    "#     except Exception as e:\n",
    "#         print(e)\n",
    "#         pass\n",
    "cwd=\".\\\\\" \n",
    "swd=\".\\\\output\\\\\"\n",
    "confnum=100\n",
    "print(\"Note! the current work path is \"+cwd)\n",
    "print(\"Note! the sdf were stored in path \"+swd)\n",
    "print(\"Note! the number of exporting conformers are \"+str(confnum))\n",
    "\n",
    "nameslist = [\"kojic_acid\",\"leonurine\"]\n",
    "comlist = [\"C1=C(OC=C(C1=O)O)CO\",\"COC1=CC(=CC(=C1O)OC)C(=O)OCCCCN=C(N)N\"]\n",
    "for i in range(len(nameslist)):\n",
    "    try:\n",
    "        mol = smi2mol(comlist[i])\n",
    "        mol,cids = ConformerGenerate(mol,nameslist[i],logtext=\"Optenergy-2.log\",log=True,numconfs=200) #200 is the generated conformers\n",
    "        elist = findsameconfs(mol,confs_num=len(cids))\n",
    "        generateMol(nameslist[i],mol,elist,confnum,cwd,swd) \n",
    "    except Exception as e:\n",
    "        print(e)\n",
    "print(\"successfully!\")"
   ]
  },
  {
   "cell_type": "markdown",
   "id": "8a3517ba",
   "metadata": {},
   "source": [
    "### Generate the conformers and check the energy information:"
   ]
  },
  {
   "cell_type": "code",
   "execution_count": 15,
   "id": "a96bb1c0",
   "metadata": {},
   "outputs": [
    {
     "name": "stdout",
     "output_type": "stream",
     "text": [
      "the count of generated conformers is:  10\n",
      "the No.1 energy is:  102.334\n",
      "the No.2 energy is:  135.442\n",
      "the No.3 energy is:  132.882\n",
      "the No.4 energy is:  133.967\n",
      "the No.5 energy is:  133.917\n",
      "the No.6 energy is:  136.286\n",
      "the No.7 energy is:  140.83\n",
      "the No.8 energy is:  130.797\n",
      "the No.9 energy is:  135.96\n",
      "the No.10 energy is:  132.905\n"
     ]
    }
   ],
   "source": [
    "#import package:\n",
    "from rdkit import Chem\n",
    "from rdkit.Chem import AllChem\n",
    "\n",
    "\n",
    "def gene_conf(smiles='CC1=CC=C(C=C1)NC2=C3C(=C(C=C2)NC4=CC=C(C=C4)C)C(=O)C5=CC=CC=C5C3=O',num_conf=10):\n",
    "    \"\"\"\n",
    "    Import smile and generate the conformers.\n",
    "    \"\"\"\n",
    "    mol = Chem.MolFromSmiles(smiles)\n",
    "    mol = Chem.AddHs(mol)\n",
    "    cids = AllChem.EmbedMultipleConfs(mol,numConfs=num_conf)\n",
    "    print(\"the count of generated conformers is: \", mol.GetNumConformers())\n",
    "    return mol\n",
    "\n",
    "\n",
    "def calconfenergy(mol,smiles,num_conf=10):\n",
    "    \"\"\"\n",
    "    Calculate the energy of the conformer.\n",
    "    \"\"\"\n",
    "    ff = AllChem.MMFFOptimizeMolecule(mol)\n",
    "    for conf_id in range(num_conf):\n",
    "        empty_mol = Chem.AddHs(Chem.MolFromSmiles(smiles))\n",
    "        empty_mol.AddConformer(mol.GetConformer(conf_id))\n",
    "        ff = AllChem.MMFFGetMoleculeForceField(empty_mol,AllChem.MMFFGetMoleculeProperties(empty_mol))\n",
    "        energy = ff.CalcEnergy()\n",
    "        print(\"the No.\"+str(conf_id+1)+\" energy is: \",round(energy,3))\n",
    "    return None\n",
    "\n",
    "if __name__  == \"__main__\":\n",
    "    mol = gene_conf()\n",
    "    calconfenergy(mol,'CC1=CC=C(C=C1)NC2=C3C(=C(C=C2)NC4=CC=C(C=C4)C)C(=O)C5=CC=CC=C5C3=O')"
   ]
  },
  {
   "cell_type": "markdown",
   "id": "7b9a0c78",
   "metadata": {},
   "source": [
    "### Merge multiple decoy SDF into One："
   ]
  },
  {
   "cell_type": "code",
   "execution_count": 8,
   "id": "59b16d47",
   "metadata": {},
   "outputs": [],
   "source": [
    "import os\n",
    "files = os.listdir(\"D:\\\\学习\\\\实验班\\\\紫菜蛋白\\\\药效团\\\\诱导剂分子构象\\\\decoy\\\\decoy\\\\\")"
   ]
  },
  {
   "cell_type": "code",
   "execution_count": 9,
   "id": "d72a2e94",
   "metadata": {},
   "outputs": [],
   "source": [
    "\"\"\"\n",
    "Since I have so many inducers and the numbering is very long.\n",
    "here they are renamed using letters plus numbers.\n",
    "\"\"\"\n",
    "\n",
    "def readfiletostring(filename,content,newname):\n",
    "    with open(\"D:\\\\学习\\\\实验班\\\\紫菜蛋白\\\\药效团\\\\诱导剂分子构象\\\\decoy\\\\decoy\\\\\"+filename,\"r\") as rf:\n",
    "        compoundname = filename.replace(\".sdf\",\"\")\n",
    "        content += rf.read().replace(compoundname,newname)\n",
    "        rf.close()\n",
    "    return content\n",
    "\n",
    "def writestringtofile(filename,content):\n",
    "    with open(\"D:\\\\学习\\\\实验班\\\\紫菜蛋白\\\\药效团\\\\诱导剂分子构象\\\\decoy\\\\decoy\\\\\"+filename+\".sdf\",\"w\") as wf:\n",
    "        wf.write(content)\n",
    "        content = \"\"\n",
    "        wf.close()\n",
    "    return content\n",
    "\n",
    "\n",
    "filenumber = len(files)\n",
    "content = \"\"\n",
    "index = 0\n",
    "itemlist = [50,100,150,200,250,300,350,400,450,500,550,600,650,700,750,800,850,900,950,1000,1050,1100,1150,1200,1250,1300,1350,1400,1403]\n",
    "words = [\"aa\",\"ab\",\"ac\",\"ad\",\"ae\",\"af\",\"ag\",\"ah\",\"ai\",\"aj\",\"ak\",\"al\",\"am\",\"an\",\"ao\",\"ap\",\"aq\",\"ar\",\"as\",\"at\",\"au\",\"av\",\"aw\",\"ax\",\"ay\",\"az\",\"ba\",\"bb\",\"bc\",\"bd\",\"be\",\"bf\",\"bg\",\"bh\",\"bi\",\"bj\",\"bk\",\"bl\",\"bm\",\"bn\",\"bo\",\"bp\",\"bq\",\"br\",\"bs\",\"bt\",\"bu\",\"bv\",\"bw\",\"bx\",\"by\",\"bz\"]\n",
    "wordsindex = 0\n",
    "namerecord = \"\"\n",
    "for i in range(1,filenumber+1):\n",
    "    filename = files.pop()\n",
    "    name = str(i)+words[wordsindex]\n",
    "    logcurrent = filename+\",\"+name+\"\\n\"\n",
    "    namerecord+=logcurrent\n",
    "    content = readfiletostring(filename,content,name)\n",
    "    if i == itemlist[index]:\n",
    "        content = writestringtofile(\"sdfs_\"+str(index),content)\n",
    "        index+=1\n",
    "        wordsindex+=1"
   ]
  },
  {
   "cell_type": "code",
   "execution_count": 11,
   "id": "2c75e678",
   "metadata": {},
   "outputs": [],
   "source": [
    "\"\"\"\n",
    "A text record the origin name the corresponding novel name.\n",
    "\"\"\"\n",
    "with open (\"namerecord.txt\",\"w\") as f:\n",
    "    f.write(\"lastname,nwename\\n\")\n",
    "    f.write(namerecord)"
   ]
  }
 ],
 "metadata": {
  "kernelspec": {
   "display_name": "pyqsar",
   "language": "python",
   "name": "pyqsar"
  },
  "language_info": {
   "codemirror_mode": {
    "name": "ipython",
    "version": 3
   },
   "file_extension": ".py",
   "mimetype": "text/x-python",
   "name": "python",
   "nbconvert_exporter": "python",
   "pygments_lexer": "ipython3",
   "version": "3.6.13"
  }
 },
 "nbformat": 4,
 "nbformat_minor": 5
}
