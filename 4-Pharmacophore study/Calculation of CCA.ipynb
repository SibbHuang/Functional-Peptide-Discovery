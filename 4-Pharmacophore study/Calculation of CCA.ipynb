{
 "cells": [
  {
   "cell_type": "markdown",
   "id": "1ba3c1f3",
   "metadata": {},
   "source": [
    "### Import package"
   ]
  },
  {
   "cell_type": "code",
   "execution_count": 42,
   "id": "26a84a42",
   "metadata": {},
   "outputs": [],
   "source": [
    "from rdkit import Chem\n",
    "from rdkit.Chem import AllChem\n",
    "import os\n",
    "import math\n",
    "import pandas as pd\n",
    "from collections import Counter\n",
    "from threading import Thread\n",
    "import time"
   ]
  },
  {
   "cell_type": "markdown",
   "id": "16c786f6",
   "metadata": {},
   "source": [
    "### Step 1: Merged all downloaded sdf files from pharmit which match pharamcophore:"
   ]
  },
  {
   "cell_type": "code",
   "execution_count": 43,
   "id": "2ceb2d9d",
   "metadata": {},
   "outputs": [],
   "source": [
    "def mergesdf(outfilename,folder=\".\\\\Hitreport\\\\\",output=\".\\\\\"):\n",
    "    \"\"\"\n",
    "    merge all sdf files which download from pharmit\n",
    "    outfilename was the name for the merge sdf\n",
    "    the folder were the sdf file stored matched compounds of each frame\n",
    "    the output was the folder to export the merge sdf\n",
    "    return None\n",
    "    \"\"\"\n",
    "    files = os.listdir(folder)\n",
    "    for file in files:  #remove format of file not \"sdf\" within folder\n",
    "        if file[-3:] != \"sdf\":\n",
    "            files.remove(file)\n",
    "    \n",
    "    collectstring = \"\"  #read all file's contents and save in variable \"collectstring\"\n",
    "    for file in files:\n",
    "        filename = folder+file\n",
    "        with open (filename,\"r\") as rf:\n",
    "            collectstring += rf.read()+\"\\n\"\n",
    "            rf.close()\n",
    "    \n",
    "    with open(output+outfilename,\"w\") as wf: #output the collectstring data\n",
    "        wf.write(collectstring)\n",
    "        wf.close()\n",
    "    print(\"merged work is finished!\")\n",
    "    return None\n",
    "\n",
    "def getcname(filename=\".\\\\sample.sdf\"):  \n",
    "    \"\"\"\n",
    "    obtain all compound name which record in merge sdf\n",
    "    return cnames, a list stored the compounds name String.\n",
    "    \"\"\"\n",
    "    with open(filename,\"r\") as rf:\n",
    "        content = rf.readlines()\n",
    "        rf.close()\n",
    "    cnames = []\n",
    "    for line in content:\n",
    "        line = line.strip(\"\\n\")\n",
    "        if line[-3:] == \"sdf\":\n",
    "            cnames.append(line.replace(\".sdf\",\"\"))\n",
    "    cnames = list(set(cnames))\n",
    "    return cnames"
   ]
  },
  {
   "cell_type": "markdown",
   "id": "fec8efe0",
   "metadata": {},
   "source": [
    "### Run the merge work, Make sure the path is normal:"
   ]
  },
  {
   "cell_type": "code",
   "execution_count": 44,
   "id": "5d16c154",
   "metadata": {},
   "outputs": [
    {
     "name": "stdout",
     "output_type": "stream",
     "text": [
      "The folder stored the hit sdf gotten form Pharmit: [.\\output\\PPYhit\\]\n",
      "The output path is [.\\output\\]\n",
      "The exporting merged sdf file name will be [.\\output\\merge-PPY.sdf]\n",
      "merged work is finished!\n",
      "1 ['PPY']\n"
     ]
    }
   ],
   "source": [
    "folder = \".\\\\output\\\\PPYhit\\\\\"\n",
    "output = \".\\\\output\\\\\"\n",
    "outfilename = output+\"merge-PPY.sdf\"  \n",
    "\n",
    "print(\"The folder stored the hit sdf gotten form Pharmit: [\"+folder+\"]\")\n",
    "print(\"The output path is [\"+output+\"]\")\n",
    "print(\"The exporting merged sdf file name will be [\"+outfilename+\"]\")\n",
    "\n",
    "mergesdf(outfilename,folder=folder)\n",
    "cnames = getcname(filename=outfilename)\n",
    "with open(output+\"cnames.txt\",\"w\") as f: \n",
    "    for i in cnames:\n",
    "        f.write(\"\\\"\"+i+\"\\\"\"+',') \n",
    "print(len(cnames),cnames[0:3])  #make sure the list content is non-empty"
   ]
  },
  {
   "cell_type": "markdown",
   "id": "97f8e202",
   "metadata": {},
   "source": [
    "### Step 2: Extract specific molecule's comformers form merged file:"
   ]
  },
  {
   "cell_type": "code",
   "execution_count": 45,
   "id": "d4710482",
   "metadata": {},
   "outputs": [],
   "source": [
    "def find_specific_comc(cname,infilename,outfilename):\n",
    "    \"\"\"\n",
    "    Here, the specific compound conformers were extracted from the merge sdf\n",
    "    based on the cname got from last step.\n",
    "    return None\n",
    "    \"\"\"\n",
    "    with open(infilename,\"r\") as f:\n",
    "        content = f.readlines()\n",
    "        f.close()\n",
    "    datas = []\n",
    "    linenumber = 0\n",
    "    for line in content:\n",
    "        if line == cname+\".sdf\\n\":\n",
    "            start = linenumber\n",
    "            data = \"$$$$\\n\"\n",
    "            for line2 in content[start:]:\n",
    "                data += line2\n",
    "                if line2 == \"M  END\\n\":\n",
    "                    break\n",
    "            datas.append(data) \n",
    "        linenumber +=1\n",
    "    with open(outfilename,\"w\") as f:\n",
    "        datas[0] = datas[0].replace(\"$$$$\\n\",\"\")\n",
    "        for data in datas:\n",
    "            f.write(data)\n",
    "        f.close()\n",
    "    return None"
   ]
  },
  {
   "cell_type": "markdown",
   "id": "4a673e43",
   "metadata": {},
   "source": [
    "### Extract the sdf files (need some time) Make sure your path is correct:"
   ]
  },
  {
   "cell_type": "code",
   "execution_count": 46,
   "id": "ee909b40",
   "metadata": {},
   "outputs": [
    {
     "name": "stdout",
     "output_type": "stream",
     "text": [
      "Number of extracted compounds were 1\n",
      "Extracted compounds were ['.\\\\output\\\\PPY.sdf']\n",
      "Time consuming is 0.008\n"
     ]
    }
   ],
   "source": [
    "st = time.time()\n",
    "outfilenames = []\n",
    "for cname in cnames:\n",
    "    try:\n",
    "        extractCname = output +cname+\".sdf\"\n",
    "        outfilenames.append(extractCname) \n",
    "        find_specific_comc(cname,outfilename,extractCname)\n",
    "    except Exception as e:\n",
    "        print(e)\n",
    "        pass\n",
    "print(\"Number of extracted compounds were \"+str(len(outfilenames)))\n",
    "print(\"Extracted compounds were\",outfilenames[0:3])\n",
    "et = time.time()\n",
    "\n",
    "print(\"Time consuming is \"+str(round(et-st,4)))"
   ]
  },
  {
   "cell_type": "markdown",
   "id": "5e133cff",
   "metadata": {},
   "source": [
    "### Step 3: Align the Melecule's comformer"
   ]
  },
  {
   "cell_type": "code",
   "execution_count": 47,
   "id": "5904ec3b",
   "metadata": {},
   "outputs": [],
   "source": [
    "def alignc(sdfsfilename):\n",
    "    \"\"\"\n",
    "    when the same conformer rotate or move, it maybe hit the pharmacophore\n",
    "    It possibly cause the conformers of a molecule downloaded from Pharmit appeared duplication.\n",
    "    Alignment is the first step to screen the different conformer.\n",
    "    \"\"\"\n",
    "    outfilename = sdfsfilename.replace(\".sdf\",\"_aligned.sdf\")\n",
    "    mols = [x for x in Chem.SDMolSupplier(sdfsfilename,removeHs=True) if x is not None]\n",
    "    mcounts = len(mols)\n",
    "    for i in range(mcounts):\n",
    "        Chem.rdMolAlign.AlignMol(mols[i],mols[0])\n",
    "    w = Chem.SDWriter(outfilename)\n",
    "    for mol in mols:\n",
    "        w.write(mol)\n",
    "    w.close()\n",
    "    return None"
   ]
  },
  {
   "cell_type": "code",
   "execution_count": 48,
   "id": "617c0c59",
   "metadata": {},
   "outputs": [
    {
     "name": "stdout",
     "output_type": "stream",
     "text": [
      "after aligning compound's number: 1\n",
      "The export folder is:  .\\output\\\n",
      "Time consuming is 0.024\n"
     ]
    }
   ],
   "source": [
    "st = time.time()\n",
    "for outfile in outfilenames: #generated from the last step\n",
    "    alignc(outfile)\n",
    "alignStoredFiles = os.listdir(output)\n",
    "alignfilenumber = 0\n",
    "noalignfilenumber = 0\n",
    "for file in alignStoredFiles:\n",
    "    try:\n",
    "        if file[-3:] == \"sdf\":\n",
    "            if file[-12:] == \"_aligned.sdf\":\n",
    "                alignfilenumber += 1\n",
    "            else:\n",
    "                noalignfilenumber += 1\n",
    "    except Exception as e:\n",
    "        print(e)\n",
    "        pass\n",
    "\n",
    "print(\"after aligning compound's number: \" + str(alignfilenumber))\n",
    "print(\"The export folder is: \",output)\n",
    "et = time.time()\n",
    "print(\"Time consuming is \"+str(round(et-st,4)))"
   ]
  },
  {
   "cell_type": "markdown",
   "id": "02021ae2",
   "metadata": {},
   "source": [
    "### Step 4: Merged the sdf file after aligned:"
   ]
  },
  {
   "cell_type": "code",
   "execution_count": 50,
   "id": "8a49b96e",
   "metadata": {},
   "outputs": [],
   "source": [
    "def merge_aligned_sdf(outfilename,folder = \".\\\\\",output=\".\\\\\"):\n",
    "    \"\"\"\n",
    "    folder was the path to save the aligned sdf\n",
    "    the output was the path to export the merged sdf\n",
    "    the outfilename is the name of the merged sdf\n",
    "    return None\n",
    "    \"\"\"\n",
    "    files = os.listdir(folder)\n",
    "    collectfiles = []\n",
    "    for file in files:  #remove non-sdf files\n",
    "        try:\n",
    "            keyword = file.split(\"_\")[-1]\n",
    "            if keyword[0:7] == \"aligned\":\n",
    "                collectfiles.append(file)\n",
    "        except:\n",
    "            pass\n",
    "    collectstring = \"\"\n",
    "    for file in collectfiles:\n",
    "        filename = folder+file\n",
    "        with open (filename,\"r\",encoding = \"utf8\") as rf:\n",
    "            collectstring += rf.read()+\"\\n\"\n",
    "            rf.close()\n",
    "    \n",
    "    with open(output+outfilename,\"w\") as wf:\n",
    "        wf.write(collectstring)\n",
    "        wf.close()\n",
    "    print(\"merged work is finished!\")\n",
    "    return None"
   ]
  },
  {
   "cell_type": "code",
   "execution_count": 20,
   "id": "e9536793",
   "metadata": {},
   "outputs": [],
   "source": [
    "m_aglined_fname = \"alignedsdfs.sdf\" \n",
    "# The name of merged files"
   ]
  },
  {
   "cell_type": "code",
   "execution_count": 51,
   "id": "36a12ba4",
   "metadata": {},
   "outputs": [
    {
     "name": "stdout",
     "output_type": "stream",
     "text": [
      "The aligned sdf were stored in .\\\n",
      "The merged sdf will be stored in .\\output\\alignedsdfs.sdf\n",
      "merged work is finished!\n"
     ]
    }
   ],
   "source": [
    "afp = \".\\\\\"\n",
    "mfp = \".\\\\output\\\\\"\n",
    "print(\"The aligned sdf were stored in \"+afp)\n",
    "print(\"The merged sdf will be stored in \"+mfp+m_aglined_fname)\n",
    "merge_aligned_sdf(m_aglined_fname,folder=afp,output=mfp) #execute merged task"
   ]
  },
  {
   "cell_type": "markdown",
   "id": "df0b5d00",
   "metadata": {},
   "source": [
    "\n",
    "### Step 5: Calculate the RMSD relative to 0 for each comformer in  Merged SDF:"
   ]
  },
  {
   "cell_type": "code",
   "execution_count": 52,
   "id": "1be58fb4",
   "metadata": {},
   "outputs": [
    {
     "name": "stdout",
     "output_type": "stream",
     "text": [
      "everything is normal!\n"
     ]
    }
   ],
   "source": [
    "def calculatermsd(compoundname,compoundxyz):  \n",
    "    \"\"\"\n",
    "    Installed into the function collectrmsd0(filename)\n",
    "    according to the sdf data to calculate the rmsd value relative to the zero position (0,0,0)\n",
    "    return compoundrmsd, a string include the rmsd value\n",
    "    \"\"\"\n",
    "    N = len(compoundxyz)  #all atoms number\n",
    "    atomsd = 0 #record the offsets for all atoms\n",
    "    for xyz in compoundxyz:\n",
    "        coordinatelist = []\n",
    "        xyz = list(filter(None,xyz.split(\",\")))\n",
    "        for coordinate in xyz:\n",
    "\n",
    "            coordinatelist.append(float(coordinate.strip(\" \"))) #a xyz coordination list of a atom which contained 3 values after treated\n",
    "        atomd = math.pow(coordinatelist[0]-0,2)\\\n",
    "        +math.pow(coordinatelist[1]-0,2)\\\n",
    "        +math.pow(coordinatelist[2]-0,2)/3 #the offset of one atom relative to the (0,0,0)\n",
    "        atomsd += atomd\n",
    "        \n",
    "    compoundrmsd = round(math.sqrt(atomsd/N),3) #calculate the rmsd for a compound relation to the (0,0,0)\n",
    "    compoundrmsd = compoundname+\",\"+str(compoundrmsd)+\"\\n\"\n",
    "    return compoundrmsd\n",
    "\n",
    "\n",
    "def collectrmsd0(filename):\n",
    "    \"\"\"\n",
    "    The rmsd between the conformer and (0,0,0) were calculated\n",
    "    We just need to get the difference was existed between each conformer\n",
    "    If both conformers were same,the rmsd value of its is same.\n",
    "    return compoundsrmsd, a list stored all rmsd value of each conformer for this inputed compound\n",
    "    \"\"\"\n",
    "    with open(filename,\"r\") as rf:\n",
    "        content = rf.readlines()\n",
    "        rf.close()\n",
    "    compoundname = \"\"\n",
    "    compoundxyz = []\n",
    "    compoundsrmsd = \"\"\n",
    "    linenumbers = len(content)\n",
    "    for index in range(linenumbers):\n",
    "        line = content[index].strip(\"\\n\")\n",
    "        if line[-3:] == \"sdf\":\n",
    "            compoundname += line\n",
    "        if line[35:48] == \"0  0  0  0  0\":\n",
    "            compoundxyz.append(line[2:30].replace(\"  \",\",\")) #add line including each atom coordinate \n",
    "        if line == \"M  END\":\n",
    "            compoundsrmsd += calculatermsd(compoundname,compoundxyz) #obtain this comformer's rmsd and append to the string\n",
    "            compoundname = \"\"\n",
    "            compoundxyz = []\n",
    "    return compoundsrmsd\n",
    "\n",
    "\n",
    "def de_weight(compoundsrmsd):\n",
    "    \"\"\"\n",
    "    The same rmsd value were remove\n",
    "    return compoundsrmsd_, a String\n",
    "    \"\"\"\n",
    "    compoundsrmsd = compoundsrmsd.split(\"\\n\")\n",
    "    compoundsname = []\n",
    "    for unit in compoundsrmsd:   #collect compound names\n",
    "        name = unit.split(\",\")[0]\n",
    "        compoundsname.append(name)\n",
    "    compoundsname = set(compoundsname)  #de-weight for compound names\n",
    "    compoundsrmsd_ = \"\"\n",
    "    for name in compoundsname: \n",
    "        rmsdvalueslist = []\n",
    "        for unit in compoundsrmsd:\n",
    "            unit = unit.split(\",\")\n",
    "            if len(unit) != 2:\n",
    "                continue\n",
    "            if unit[0] == name:\n",
    "                rmsdvalueslist.append(unit[1])\n",
    "\n",
    "        rmsdvalueslist = set(rmsdvalueslist) #de-weight for rmsd\n",
    "        for rmsd in rmsdvalueslist:\n",
    "            compoundsrmsd_ += name+\",\"+rmsd+\"\\n\"\n",
    "    return compoundsrmsd_\n",
    "\n",
    "\n",
    "def getcfreq(crmsd):\n",
    "    \"\"\"\n",
    "    summary the conformers number\n",
    "    \"\"\"\n",
    "    crmsdl = crmsd.split(\"\\n\")\n",
    "    cnamefreq = []\n",
    "    for line in crmsdl:\n",
    "        line = line.split(\",\")\n",
    "        cnamefreq.append(line[0].replace(\".sdf\",\"\"))\n",
    "    cfrequence = Counter(cnamefreq)\n",
    "    del crmsdl\n",
    "    return cfrequence\n",
    "\n",
    "\n",
    "def writereport(result,filename):\n",
    "    with open(filename,\"w\") as wf:\n",
    "        wf.write(\"cname,rmsd0,CHA\\n\")\n",
    "        for data in result:\n",
    "            wf.write(data)\n",
    "        wf.close()\n",
    "    return None\n",
    "print(\"everything is normal!\")"
   ]
  },
  {
   "cell_type": "code",
   "execution_count": 53,
   "id": "9fbd61ea",
   "metadata": {},
   "outputs": [
    {
     "name": "stdout",
     "output_type": "stream",
     "text": [
      "The input file is: .\\output\\alignedsdfs.sdf\n",
      "The output folder will be: .\\\n",
      "The message of conformers number for each compound were stored in .\\PPY\\pep cfreq report.csv\n"
     ]
    }
   ],
   "source": [
    "infilename = \".\\\\output\\\\\" + m_aglined_fname\n",
    "output = \".\\\\\"\n",
    "reffilename = \".\\\\PPY\\\\\" + \"pep cfreq report.csv\"  \n",
    "#this file which produced from code named \"Calculater of CHA.ipynb\"\n",
    "#It can found the compound not detected in download sdf files\n",
    "\n",
    "print(\"The input file is: \"+infilename)\n",
    "print(\"The output folder will be: \"+output)\n",
    "print(\"The message of conformers number for each compound were stored in \"+reffilename)\n"
   ]
  },
  {
   "cell_type": "code",
   "execution_count": 54,
   "id": "e5e4d81b",
   "metadata": {},
   "outputs": [
    {
     "name": "stdout",
     "output_type": "stream",
     "text": [
      "okay!\n"
     ]
    }
   ],
   "source": [
    "datacombine = \"\"\n",
    "datacombine += collectrmsd0(infilename)  #calculate rmsd\n",
    "crmsd = de_weight(datacombine)   #de-weight\n",
    "\n",
    "print(\"okay!\")"
   ]
  },
  {
   "cell_type": "code",
   "execution_count": 55,
   "id": "700d8407",
   "metadata": {},
   "outputs": [
    {
     "data": {
      "text/html": [
       "<div>\n",
       "<style scoped>\n",
       "    .dataframe tbody tr th:only-of-type {\n",
       "        vertical-align: middle;\n",
       "    }\n",
       "\n",
       "    .dataframe tbody tr th {\n",
       "        vertical-align: top;\n",
       "    }\n",
       "\n",
       "    .dataframe thead th {\n",
       "        text-align: right;\n",
       "    }\n",
       "</style>\n",
       "<table border=\"1\" class=\"dataframe\">\n",
       "  <thead>\n",
       "    <tr style=\"text-align: right;\">\n",
       "      <th></th>\n",
       "      <th>cname</th>\n",
       "      <th>frequence</th>\n",
       "    </tr>\n",
       "  </thead>\n",
       "  <tbody>\n",
       "    <tr>\n",
       "      <th>0</th>\n",
       "      <td>PPY</td>\n",
       "      <td>99</td>\n",
       "    </tr>\n",
       "  </tbody>\n",
       "</table>\n",
       "</div>"
      ],
      "text/plain": [
       "  cname  frequence\n",
       "0   PPY         99"
      ]
     },
     "execution_count": 55,
     "metadata": {},
     "output_type": "execute_result"
    }
   ],
   "source": [
    "df = pd.read_csv(reffilename)\n",
    "df.head()"
   ]
  },
  {
   "cell_type": "code",
   "execution_count": 56,
   "id": "e341840c",
   "metadata": {},
   "outputs": [
    {
     "name": "stdout",
     "output_type": "stream",
     "text": [
      "Total number of compounds submitted to the pharmit:  1\n",
      "Total number of the compound which matched pharmacophore:  2\n"
     ]
    }
   ],
   "source": [
    "fredata = list(df[\"frequence\"])\n",
    "cnamedata = list(df[\"cname\"])\n",
    "\n",
    "print(\"Total number of compounds submitted to the pharmit: \",len(fredata))\n",
    "outputdata = []\n",
    "cfrequence = getcfreq(crmsd)\n",
    "print(\"Total number of the compound which matched pharmacophore: \",len(cfrequence.keys()))"
   ]
  },
  {
   "cell_type": "markdown",
   "id": "a6193182",
   "metadata": {},
   "source": [
    "### Step 6: Export the CCA report:"
   ]
  },
  {
   "cell_type": "code",
   "execution_count": 57,
   "id": "28e7fdc5",
   "metadata": {},
   "outputs": [
    {
     "name": "stdout",
     "output_type": "stream",
     "text": [
      "The exporting file name will be: .\\PPY CCA report.csv\n"
     ]
    }
   ],
   "source": [
    "reportname = \".\\\\PPY CCA report.csv\"\n",
    "print(\"The exporting file name will be: \"+reportname)\n",
    "\n",
    "outputdata = []\n",
    "for i in range(len(cnamedata)):\n",
    "    try:\n",
    "        cname = cnamedata[i]\n",
    "        statepoint = 0\n",
    "        for c in cfrequence.keys():\n",
    "            if c == cname:\n",
    "                cha = round(cfrequence[c]/fredata[i],3)\n",
    "                result = cname+\",\"+ str(cfrequence[c])+\",\"+str(cha)+\"\\n\"\n",
    "                outputdata.append(result)\n",
    "                statepoint = 1\n",
    "                break\n",
    "        if statepoint != 1:\n",
    "            result = cname+\",0,0\\n\"\n",
    "            outputdata.append(result)\n",
    "\n",
    "        if statepoint == 1:\n",
    "            statepoint = 0\n",
    "    except Exception as e:\n",
    "        print(e)\n",
    "\n",
    "writereport(outputdata,reportname) #export the CCA report"
   ]
  },
  {
   "cell_type": "markdown",
   "id": "b86726cf",
   "metadata": {},
   "source": [
    "### Step 7: Remove large number of sdf produced in middle step:"
   ]
  },
  {
   "cell_type": "code",
   "execution_count": 37,
   "id": "a3c2a625",
   "metadata": {},
   "outputs": [],
   "source": [
    "print(outfilenames[0:4])\n",
    "for oldfile in outfilenames:  #remove the extract sdf file\n",
    "    try:\n",
    "        os.remove(oldfile)\n",
    "        print(\"file \",oldfile,\" was removed.\")\n",
    "    except Exception as e:\n",
    "        print(e)"
   ]
  },
  {
   "cell_type": "code",
   "execution_count": 41,
   "id": "a9ffb185",
   "metadata": {},
   "outputs": [
    {
     "name": "stdout",
     "output_type": "stream",
     "text": [
      "The following files will be remove:  ['alignedsdfs.sdf']\n"
     ]
    }
   ],
   "source": [
    "#removed the sdf file after aligned\n",
    "folder = \".\\\\output\\\\\"\n",
    "files = os.listdir(\".\\\\output\\\\\")\n",
    "delfiles = []\n",
    "for file in files:\n",
    "    try:\n",
    "        keyword = file.split(\"_\")[-1]\n",
    "        if file[0:7] == \"aligned\":\n",
    "            delfiles.append(file)\n",
    "    except:\n",
    "        pass\n",
    "print(\"The following files will be remove: \",delfiles)  #Make sure not exist any important file\n",
    "for file in delfiles:\n",
    "    file = \".\\\\\" + file\n",
    "    os.remove(folder+file)"
   ]
  },
  {
   "cell_type": "code",
   "execution_count": 41,
   "id": "b3bee9c6",
   "metadata": {},
   "outputs": [],
   "source": []
  }
 ],
 "metadata": {
  "kernelspec": {
   "display_name": "Python 3",
   "language": "python",
   "name": "python3"
  },
  "language_info": {
   "codemirror_mode": {
    "name": "ipython",
    "version": 3
   },
   "file_extension": ".py",
   "mimetype": "text/x-python",
   "name": "python",
   "nbconvert_exporter": "python",
   "pygments_lexer": "ipython3",
   "version": "3.6.13"
  }
 },
 "nbformat": 4,
 "nbformat_minor": 5
}
