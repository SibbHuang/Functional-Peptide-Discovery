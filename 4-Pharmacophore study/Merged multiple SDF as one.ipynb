{
 "cells": [
  {
   "cell_type": "markdown",
   "id": "f020c73d",
   "metadata": {},
   "source": [
    "### Collect SDF file name"
   ]
  },
  {
   "cell_type": "code",
   "execution_count": 1,
   "id": "64a8abbd",
   "metadata": {},
   "outputs": [],
   "source": [
    "folder = \".\\\\PredictPsdf\\\\\"\n",
    "#check your dir is correct\n",
    "\n",
    "\"\"\"\n",
    "This is some SDF files containing 377 peptides from Porphyra proteins with better ADMET property.\n",
    "\"\"\""
   ]
  },
  {
   "cell_type": "code",
   "execution_count": 4,
   "id": "37716f4f",
   "metadata": {},
   "outputs": [
    {
     "name": "stdout",
     "output_type": "stream",
     "text": [
      "['AACSGGW.sdf', 'AACW.sdf']\n",
      "The sum of files is  337\n"
     ]
    }
   ],
   "source": [
    "import os\n",
    "files = os.listdir(folder)\n",
    "for file in files:\n",
    "    if file[-3:] != \"sdf\":\n",
    "        files.remove(file)\n",
    "print(files[1:3]) #check\n",
    "print(\"The sum of files is \",len(files))"
   ]
  },
  {
   "cell_type": "markdown",
   "id": "9b8263d2",
   "metadata": {},
   "source": [
    "### Merged all SDF files as One："
   ]
  },
  {
   "cell_type": "code",
   "execution_count": 5,
   "id": "67174e2c",
   "metadata": {},
   "outputs": [],
   "source": [
    "#check your  output path and filename\n",
    "output = \".\\\\\" \n",
    "outfilename = \"PredictP337.sdf\" "
   ]
  },
  {
   "cell_type": "code",
   "execution_count": 6,
   "id": "b5f95be4",
   "metadata": {},
   "outputs": [
    {
     "name": "stdout",
     "output_type": "stream",
     "text": [
      "finished!\n"
     ]
    }
   ],
   "source": [
    "collectstring = \"\"\n",
    "for file in files:\n",
    "    filename = folder+file\n",
    "    with open (filename,\"r\") as rf:\n",
    "        collectstring += rf.read()\n",
    "        rf.close()\n",
    "\n",
    "with open(output+outfilename,\"w\") as wf:\n",
    "    wf.write(collectstring)\n",
    "    wf.close()\n",
    "print(\"finished!\")"
   ]
  },
  {
   "cell_type": "markdown",
   "id": "e70a1512",
   "metadata": {},
   "source": [
    "### SDF filename is too lenght to record.\n",
    "\n",
    "### The simplified code for the name is as follows:"
   ]
  },
  {
   "cell_type": "code",
   "execution_count": null,
   "id": "94b5dfae",
   "metadata": {},
   "outputs": [],
   "source": [
    "itemlist = [50,100,150,200,250,300,350,400,450,500,550,600,650,700,750,800,850,900,950,1000,1050,1100,1150,1200,1250,1300,1350,1400,1403]\n",
    "words = [\"aa\",\"ab\",\"ac\",\"ad\",\"ae\",\"af\",\"ag\",\"ah\",\"ai\",\"aj\",\"ak\",\"al\",\"am\",\"an\",\"ao\",\"ap\",\"aq\",\"ar\",\"as\",\"at\",\"au\",\"av\",\"aw\",\"ax\",\"ay\",\\\n",
    "         \"az\",\"ba\",\"bb\",\"bc\",\"bd\",\"be\",\"bf\",\"bg\",\"bh\",\"bi\",\"bj\",\"bk\",\"bl\",\"bm\",\"bn\",\"bo\",\"bp\",\"bq\",\"br\",\"bs\",\"bt\",\"bu\",\"bv\",\"bw\",\"bx\",\\\n",
    "         \"by\",\"bz\"]\n",
    "\n",
    "\"\"\"\n",
    "combination of letters and numbers were utilized as new filename\n",
    "\"\"\""
   ]
  },
  {
   "cell_type": "code",
   "execution_count": null,
   "id": "a1cdb429",
   "metadata": {},
   "outputs": [],
   "source": [
    "def readfiletostring(filename,content,newname,folder):\n",
    "    \"\"\"\n",
    "    replace oldname to newname\n",
    "    \"\"\"\n",
    "    with open(folder+filename,\"r\") as rf:\n",
    "        compoundname = filename.replace(\".sdf\",\"\")\n",
    "        content += rf.read().replace(compoundname,newname) \n",
    "        rf.close()\n",
    "    return content\n",
    "\n",
    "def writestringtofile(filename,outfolder,content): \n",
    "    \"\"\"\n",
    "    output the data with newname as a SDF file.\n",
    "    \"\"\"\n",
    "    with open(outfolder+filename+\".sdf\",\"w\") as wf:\n",
    "        wf.write(content)\n",
    "        content = \"\"\n",
    "        wf.close()\n",
    "    return content"
   ]
  },
  {
   "cell_type": "markdown",
   "id": "4474ca0b",
   "metadata": {},
   "source": [
    "### Loop:"
   ]
  },
  {
   "cell_type": "code",
   "execution_count": null,
   "id": "f41630ab",
   "metadata": {},
   "outputs": [],
   "source": [
    "outfolder = \".\\\\\"  #check the output path wanted to export the SDF file"
   ]
  },
  {
   "cell_type": "code",
   "execution_count": null,
   "id": "4421aac2",
   "metadata": {},
   "outputs": [],
   "source": [
    "filenumber = len(files)  \n",
    "content = \"\"\n",
    "index = 0\n",
    "wordsindex = 0\n",
    "namerecord = \"\"\n",
    "\n",
    "for i in range(1,filenumber+1):       #modified name and merged files\n",
    "    filename = files.pop()\n",
    "    name = str(i)+words[wordsindex]   #create new name\n",
    "    logcurrent = filename+\",\"+name+\"\\n\"\n",
    "    namerecord+=logcurrent\n",
    "    content = readfiletostring(filename,content,name,folder)\n",
    "    if i == itemlist[index]:\n",
    "        content = writestringtofile(\"sdfs_\"+str(index),outfolder,content)\n",
    "        index+=1\n",
    "        wordsindex+=1\n",
    "\n",
    "with open (\"namerecord.txt\",\"w\") as f: #record new name and old name message\n",
    "    f.write(\"lastname,nwename\\n\")\n",
    "    f.write(namerecord)"
   ]
  }
 ],
 "metadata": {
  "kernelspec": {
   "display_name": "Python 3",
   "language": "python",
   "name": "python3"
  },
  "language_info": {
   "codemirror_mode": {
    "name": "ipython",
    "version": 3
   },
   "file_extension": ".py",
   "mimetype": "text/x-python",
   "name": "python",
   "nbconvert_exporter": "python",
   "pygments_lexer": "ipython3",
   "version": "3.6.13"
  }
 },
 "nbformat": 4,
 "nbformat_minor": 5
}
