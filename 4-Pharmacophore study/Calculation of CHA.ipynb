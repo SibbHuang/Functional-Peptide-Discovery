{
 "cells": [
  {
   "cell_type": "markdown",
   "id": "06ac7712",
   "metadata": {},
   "source": [
    "### Some related Functions"
   ]
  },
  {
   "cell_type": "code",
   "execution_count": 1,
   "id": "f89d2f89",
   "metadata": {},
   "outputs": [],
   "source": [
    "import os\n",
    "from collections import Counter\n",
    "#read each sdf file's content\n",
    "def readsdf(filename):\n",
    "    with open (filename,\"r\") as rf:\n",
    "        content = rf.readlines()\n",
    "        rf.close()\n",
    "    return content\n",
    "\n",
    "#obtained compound's name and its comformer matching rmsd\n",
    "def writerecord(content):\n",
    "    compoundname = []  #collect compound's name\n",
    "    recordstring = \"\"  #record the compound's name and matching comformer's rmsd value\n",
    "    linenumber = len(content)\n",
    "    for lineindex in range(linenumber):\n",
    "        line = content[lineindex].replace(\"\\n\",\"\")\n",
    "        if line[-3:] == \"sdf\":\n",
    "            recordstring += line\n",
    "            recordstring += \",\"\n",
    "            compoundname.append(line)\n",
    "        if line == \"> <rmsd>\":\n",
    "            recordstring += content[lineindex+1].replace(\"\\n\",\"\")\n",
    "            recordstring += \"\\n\"\n",
    "    return recordstring,compoundname \n",
    "\n",
    "#same comformers of a compound present in the downloaded sdf file\n",
    "#hence，remove the repeating comformers by using de_weight function\n",
    "def de_weight(compoundname,string):\n",
    "    compoundname = set(compoundname) #de-weight\n",
    "    recordlist = string.split(\"\\n\") \n",
    "    string_ = \"\"\n",
    "    string__ = \"\"\n",
    "    for name in compoundname:\n",
    "        rmsdlist = []\n",
    "        for data in recordlist:\n",
    "            data_ = data.split(\",\")\n",
    "            if data_[0] == name:\n",
    "                rmsdlist.append(data_[1])\n",
    "        rmsdlist = set(rmsdlist)  #delete the same comformer for this molecule\n",
    "        number = str(len(rmsdlist))\n",
    "        string__ += name+\",\"+number+\"\\n\"\n",
    "        for rmsd in rmsdlist:\n",
    "            rmsd_ = name+\",\"+rmsd+\"\\n\"\n",
    "            string_ += rmsd_\n",
    "    return string_,string__\n",
    "\n",
    "#export the result\n",
    "def writefile(filename,string):\n",
    "    with open(filename,\"w\") as wf:\n",
    "        wf.write(\"compound name,rmsd\\n\")\n",
    "        wf.write(string)\n",
    "        wf.close()\n",
    "    return None\n",
    "\n",
    "def writefile2(filename,string):\n",
    "    with open(filename,\"w+\") as wf:\n",
    "        wf.write(\"decoy name,hit number\\n\")\n",
    "        wf.write(string)\n",
    "        wf.close()    \n",
    "    return None"
   ]
  },
  {
   "cell_type": "markdown",
   "id": "dbc90c18",
   "metadata": {},
   "source": [
    "### The number of conformer hit in one frame was counted"
   ]
  },
  {
   "cell_type": "code",
   "execution_count": 17,
   "id": "de023ffe",
   "metadata": {},
   "outputs": [
    {
     "name": "stdout",
     "output_type": "stream",
     "text": [
      "The sdf files gotten form Pharmit were stored in [.\\output\\PPYhit\\]\n"
     ]
    }
   ],
   "source": [
    "folder = \".\\\\output\\\\PPYhit\\\\\"\n",
    "print(\"The sdf files gotten form Pharmit were stored in [\"+folder+\"]\")"
   ]
  },
  {
   "cell_type": "code",
   "execution_count": 18,
   "id": "3d03f07c",
   "metadata": {},
   "outputs": [
    {
     "name": "stdout",
     "output_type": "stream",
     "text": [
      "The number of pharmacophore frames matched in Pharmit were 7\n"
     ]
    }
   ],
   "source": [
    "files = os.listdir(folder)\n",
    "for file in files:\n",
    "    if file[-3:] != \"sdf\":\n",
    "        files.remove(file)\n",
    "\n",
    "print(\"The number of pharmacophore frames matched in Pharmit were \"+str(len(files)))"
   ]
  },
  {
   "cell_type": "code",
   "execution_count": 19,
   "id": "a942c919",
   "metadata": {},
   "outputs": [
    {
     "name": "stdout",
     "output_type": "stream",
     "text": [
      "The number of frames is  7\n"
     ]
    }
   ],
   "source": [
    "str3 = \"\" #collect data contained all sdf-files\n",
    "for file in files: \n",
    "    filename = folder + file\n",
    "    content = readsdf(filename)\n",
    "    string,compoundname = writerecord(content)\n",
    "    str1,str2 = de_weight(compoundname,string)\n",
    "    str3 += str2 + \"\\n\"\n",
    "\n",
    "data = str3.split(\"\\n\\n\")\n",
    "data.remove(\"\")\n",
    "print(\"The number of frames is \",len(data))\n",
    "del str1,str2,str3"
   ]
  },
  {
   "cell_type": "code",
   "execution_count": 20,
   "id": "91072a58",
   "metadata": {},
   "outputs": [
    {
     "data": {
      "text/plain": [
       "'PPY.sdf,1'"
      ]
     },
     "execution_count": 20,
     "metadata": {},
     "output_type": "execute_result"
    }
   ],
   "source": [
    "data[0]  #check the data is not blank"
   ]
  },
  {
   "cell_type": "markdown",
   "id": "a7d24422",
   "metadata": {},
   "source": [
    "\n",
    "### Collect compound name come from origin dataset "
   ]
  },
  {
   "cell_type": "code",
   "execution_count": 21,
   "id": "ee782670",
   "metadata": {},
   "outputs": [],
   "source": [
    "def getcname(filename):\n",
    "    with open(filename,\"r\",encoding=\"utf8\") as rf:\n",
    "        contentlist = rf.readlines()\n",
    "        rf.close()\n",
    "    cnames = []\n",
    "    for line in contentlist:\n",
    "        line = line.replace(\"\\n\",\"\")\n",
    "        if line[-3:] == \"sdf\":\n",
    "            cnames.append(line.replace(\".sdf\",\"\"))\n",
    "    cfrequence = Counter(cnames)\n",
    "    cnames = list(set(cnames)) #de-weight\n",
    "    return cnames,cfrequence\n"
   ]
  },
  {
   "cell_type": "code",
   "execution_count": 22,
   "id": "679157f5",
   "metadata": {},
   "outputs": [
    {
     "name": "stdout",
     "output_type": "stream",
     "text": [
      "Note! the sdf send to Pharmit as sdf.gz were [.\\output\\PPY-2.sdf]\n"
     ]
    }
   ],
   "source": [
    "infilename = \".\\\\output\\\\PPY-2.sdf\"\n",
    "print(\"Note! the sdf send to Pharmit as sdf.gz were [\"+infilename+\"]\")\n",
    "#make sure the input filename is correct"
   ]
  },
  {
   "cell_type": "code",
   "execution_count": 23,
   "id": "5dbaad72",
   "metadata": {},
   "outputs": [
    {
     "name": "stdout",
     "output_type": "stream",
     "text": [
      "The origin dataset contained compound number are  1\n",
      "============\n",
      "This compound names are  ['PPY']\n",
      "============\n",
      "Each compound included comformers are  [99]\n"
     ]
    }
   ],
   "source": [
    "cnames,cfrequence = getcname(infilename) \n",
    "#variable cfrequence is a dictionary\n",
    "\n",
    "print(\"The origin dataset contained compound number are \",\\\n",
    "      len(list(cfrequence.values())))\n",
    "print(\"=\"*12)\n",
    "print(\"This compound names are \",cnames)\n",
    "print(\"=\"*12)\n",
    "print(\"Each compound included comformers are \",list(cfrequence.values()))"
   ]
  },
  {
   "cell_type": "markdown",
   "id": "1357d21e",
   "metadata": {},
   "source": [
    "### Modify result data style "
   ]
  },
  {
   "cell_type": "code",
   "execution_count": 24,
   "id": "2a1d39a6",
   "metadata": {},
   "outputs": [
    {
     "data": {
      "text/plain": [
       "['PPY,1,1,1,1,1,1,1,\\n']"
      ]
     },
     "execution_count": 24,
     "metadata": {},
     "output_type": "execute_result"
    }
   ],
   "source": [
    "clist,report= cnames,\"\"\n",
    "\n",
    "for framedata in data: # string\n",
    "    framedatalist = framedata.split(\"\\n\")\n",
    "    for c in clist:\n",
    "        checkpoint = 0\n",
    "        for peptidedata in framedatalist: #each compound in a sdf- file\n",
    "            peptidedatalist = peptidedata.split(\",\")\n",
    "            if peptidedatalist[0].replace(\".sdf\",\"\") == c: # if match result in clist variable\n",
    "                report += c+\",\"+\"1\\n\"\n",
    "                checkpoint = 1\n",
    "                break\n",
    "        if checkpoint != 1:   # if nothing match in clist\n",
    "            report += c+\",\"+ \"0\\n\"\n",
    "        if checkpoint == 1:\n",
    "            checkpoint = 0\n",
    "\n",
    "datas = report.split(\"\\n\")\n",
    "outputdata,currentline = [],\"\"\n",
    "for c in clist:\n",
    "    currentline += c+\",\"\n",
    "    for data in datas:\n",
    "        data = data.split(\",\")\n",
    "        if data[0] == c:\n",
    "            currentline += data[1]+\",\"\n",
    "    currentline += \"\\n\"\n",
    "    outputdata.append(currentline)     \n",
    "    currentline = \"\"\n",
    "\n",
    "outputdata[0:3]"
   ]
  },
  {
   "cell_type": "markdown",
   "id": "f5af0887",
   "metadata": {},
   "source": [
    "### Export result as CSV file"
   ]
  },
  {
   "cell_type": "code",
   "execution_count": 26,
   "id": "752610d8",
   "metadata": {},
   "outputs": [
    {
     "name": "stdout",
     "output_type": "stream",
     "text": [
      "The result will be stored in folder [.\\PPY\\]\n",
      "============\n",
      "The compound's names and number of conformers will be expored in [.\\PPY\\pep cfreq report.csv]\n",
      "============\n",
      "The CHA data will be stored in  folder [.\\PPY\\pep CHA report.csv]\n"
     ]
    }
   ],
   "source": [
    "output = \".\\\\PPY\\\\\"\n",
    "outCHAfilename = output+\"pep CHA report\"+\".csv\"  \n",
    "outcfreqfilename = output+\"pep cfreq report.csv\"\n",
    "\n",
    "print(\"The result will be stored in folder [\"+output+\"]\")\n",
    "print(\"=\"*12)\n",
    "print(\"The compound's names and number of conformers will be expored in [\"+outcfreqfilename+\"]\")\n",
    "print(\"=\"*12)\n",
    "print(\"The CHA data will be stored in  folder [\"+outCHAfilename+\"]\")"
   ]
  },
  {
   "cell_type": "code",
   "execution_count": 27,
   "id": "cf26d11c",
   "metadata": {},
   "outputs": [
    {
     "name": "stdout",
     "output_type": "stream",
     "text": [
      "Successfully!\n"
     ]
    }
   ],
   "source": [
    "with open (outCHAfilename,\"w\") as wf: #generate the file which used to calculate CHA score\n",
    "    wf.write(\"cname\\n\")\n",
    "    for cdata in outputdata:\n",
    "        wf.write(cdata)\n",
    "    wf.close()\n",
    "\n",
    "#generate the all molecule and its frequence appeared in origin dataset\n",
    "#This file will utilized in CCA score calculate\n",
    "with open (outcfreqfilename,\"w\") as f:  \n",
    "    f.write(\"cname,frequence\\n\")\n",
    "    for data in cfrequence:\n",
    "        f.write(data+\",\"+str(cfrequence[data])+\"\\n\")\n",
    "    f.close()\n",
    "\n",
    "print(\"Successfully!\")"
   ]
  },
  {
   "cell_type": "code",
   "execution_count": null,
   "id": "87b9ad55",
   "metadata": {},
   "outputs": [],
   "source": []
  }
 ],
 "metadata": {
  "kernelspec": {
   "display_name": "Python 3",
   "language": "python",
   "name": "python3"
  },
  "language_info": {
   "codemirror_mode": {
    "name": "ipython",
    "version": 3
   },
   "file_extension": ".py",
   "mimetype": "text/x-python",
   "name": "python",
   "nbconvert_exporter": "python",
   "pygments_lexer": "ipython3",
   "version": "3.6.13"
  }
 },
 "nbformat": 4,
 "nbformat_minor": 5
}
